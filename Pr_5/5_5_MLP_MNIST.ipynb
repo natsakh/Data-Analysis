{
  "nbformat": 4,
  "nbformat_minor": 0,
  "metadata": {
    "colab": {
      "provenance": [],
      "authorship_tag": "ABX9TyMr898ruaXzFiL/LuhCz0TH",
      "include_colab_link": true
    },
    "kernelspec": {
      "name": "python3",
      "display_name": "Python 3"
    },
    "language_info": {
      "name": "python"
    }
  },
  "cells": [
    {
      "cell_type": "markdown",
      "metadata": {
        "id": "view-in-github",
        "colab_type": "text"
      },
      "source": [
        "<a href=\"https://colab.research.google.com/github/natsakh/Data-Analysis/blob/main/Pr_5/5_5_MLP_MNIST.ipynb\" target=\"_parent\"><img src=\"https://colab.research.google.com/assets/colab-badge.svg\" alt=\"Open In Colab\"/></a>"
      ]
    },
    {
      "cell_type": "code",
      "execution_count": 1,
      "metadata": {
        "colab": {
          "base_uri": "https://localhost:8080/"
        },
        "id": "vZ7nevypU7WH",
        "outputId": "e3c60c6b-068f-4ee6-bc70-bf4e3ce40a9a"
      },
      "outputs": [
        {
          "output_type": "stream",
          "name": "stdout",
          "text": [
            "Device: cpu\n"
          ]
        }
      ],
      "source": [
        "import torch\n",
        "import torch.nn as nn\n",
        "from torch.utils.data import DataLoader, random_split\n",
        "from torchvision import datasets, transforms\n",
        "import random\n",
        "\n",
        "torch.manual_seed(42)\n",
        "random.seed(42)\n",
        "\n",
        "device = torch.device(\"cuda\" if torch.cuda.is_available() else \"cpu\")\n",
        "print(\"Device:\", device)"
      ]
    },
    {
      "cell_type": "markdown",
      "source": [
        "<small>[https://docs.pytorch.org/vision/0.8/datasets.html](https://docs.pytorch.org/vision/0.8/datasets.html)</small>\n",
        "\n",
        "<small>[https://docs.pytorch.org/vision/stable/_modules/torchvision/datasets/mnist.html](https://docs.pytorch.org/vision/stable/_modules/torchvision/datasets/mnist.html)</small>\n",
        "\n",
        "<small>[https://docs.pytorch.org/vision/main/generated/torchvision.transforms.ToTensor.html](https://docs.pytorch.org/vision/main/generated/torchvision.transforms.ToTensor.html)</small>\n"
      ],
      "metadata": {
        "id": "Vehqq_v-lgpm"
      }
    },
    {
      "cell_type": "code",
      "source": [
        " # MNIST dataset (images 28x28 → tensors in [0,1])\n",
        "transform = transforms.ToTensor()\n",
        "\n",
        "full_train = datasets.MNIST(root=\"./data\", train=True, download=True, transform=transform)\n",
        "\n",
        "# розділимо train → train + val\n",
        "train_size = int(0.8 * len(full_train))\n",
        "val_size = len(full_train) - train_size\n",
        "train_set, val_set = random_split(full_train, [train_size, val_size])\n",
        "\n",
        "train_loader = DataLoader(train_set, batch_size=128, shuffle=True)\n",
        "val_loader   = DataLoader(val_set, batch_size=256)\n",
        "\n",
        "test_set  = datasets.MNIST(root=\"./data\", train=False, download=True, transform=transform)"
      ],
      "metadata": {
        "id": "gsYU1Jw_VSDg",
        "colab": {
          "base_uri": "https://localhost:8080/"
        },
        "outputId": "1bfdcebf-6551-4857-b455-39df4bc7922b"
      },
      "execution_count": 2,
      "outputs": [
        {
          "output_type": "stream",
          "name": "stderr",
          "text": [
            "100%|██████████| 9.91M/9.91M [00:00<00:00, 38.2MB/s]\n",
            "100%|██████████| 28.9k/28.9k [00:00<00:00, 1.09MB/s]\n",
            "100%|██████████| 1.65M/1.65M [00:00<00:00, 9.74MB/s]\n",
            "100%|██████████| 4.54k/4.54k [00:00<00:00, 9.82MB/s]\n"
          ]
        }
      ]
    },
    {
      "cell_type": "code",
      "source": [
        "# Model: MLP\n",
        "class MLP(nn.Module):\n",
        "    def __init__(self):\n",
        "        super().__init__()\n",
        "        self.net = nn.Sequential(\n",
        "            nn.Linear(28*28, 128),\n",
        "            nn.ReLU(),\n",
        "            nn.Linear(128, 64),\n",
        "            nn.ReLU(),\n",
        "            nn.Linear(64, 10)   # logits\n",
        "        )\n",
        "\n",
        "    def forward(self, x):\n",
        "        x = x.reshape(x.size(0), -1)      #[B, 1, 28, 28] -> [B, 784]\n",
        "        logits = self.net(x)             # no softmax here!\n",
        "        return logits  #logit — це лінійний вихід моделі до застосування сигмоїди (або softmax)\n",
        "\n",
        "model = MLP().to(device)\n",
        "print(model)"
      ],
      "metadata": {
        "colab": {
          "base_uri": "https://localhost:8080/"
        },
        "id": "uiw1T1cdVmv5",
        "outputId": "ab23feec-cffd-4ff8-ddab-4c9e8323286b"
      },
      "execution_count": 3,
      "outputs": [
        {
          "output_type": "stream",
          "name": "stdout",
          "text": [
            "MLP(\n",
            "  (net): Sequential(\n",
            "    (0): Linear(in_features=784, out_features=128, bias=True)\n",
            "    (1): ReLU()\n",
            "    (2): Linear(in_features=128, out_features=64, bias=True)\n",
            "    (3): ReLU()\n",
            "    (4): Linear(in_features=64, out_features=10, bias=True)\n",
            "  )\n",
            ")\n"
          ]
        }
      ]
    },
    {
      "cell_type": "code",
      "source": [
        "num_params = sum(p.numel() for p in model.parameters() if p.requires_grad)\n",
        "print(\"Trainable params:\", num_params)"
      ],
      "metadata": {
        "colab": {
          "base_uri": "https://localhost:8080/"
        },
        "id": "4DUfzvbmV3zQ",
        "outputId": "9001452e-2c91-4184-8ecc-16d470d20195"
      },
      "execution_count": 4,
      "outputs": [
        {
          "output_type": "stream",
          "name": "stdout",
          "text": [
            "Trainable params: 109386\n"
          ]
        }
      ]
    },
    {
      "cell_type": "markdown",
      "source": [
        "<small>[https://docs.pytorch.org/docs/stable/generated/torch.nn.CrossEntropyLoss.html](https://docs.pytorch.org/docs/stable/generated/torch.nn.CrossEntropyLoss.html)</small>"
      ],
      "metadata": {
        "id": "JhORjsSRoqH0"
      }
    },
    {
      "cell_type": "code",
      "source": [
        "# Loss & Optimizer\n",
        "criterion = nn.CrossEntropyLoss()\n",
        "optimizer = torch.optim.Adam(model.parameters(), lr=1e-3)"
      ],
      "metadata": {
        "id": "NkS_xka0WKC-"
      },
      "execution_count": 5,
      "outputs": []
    },
    {
      "cell_type": "code",
      "source": [
        "# stopping параметри\n",
        "patience = 2   # скільки епох чекати\n",
        "best_val_loss = float('inf')\n",
        "epochs_no_improve = 0\n",
        "n_epochs = 50\n",
        "best_model_path = \"best_model.pth\""
      ],
      "metadata": {
        "id": "usMgO4uSxKfT"
      },
      "execution_count": 6,
      "outputs": []
    },
    {
      "cell_type": "code",
      "source": [
        "# навчання\n",
        "train_loss_history = []\n",
        "val_loss_history = []\n",
        "for epoch in range(n_epochs):\n",
        "\n",
        "    # --- train ---\n",
        "    model.train()\n",
        "    train_loss = 0.0\n",
        "    for x, y in train_loader:\n",
        "        x, y = x.to(device), y.to(device)\n",
        "        optimizer.zero_grad()\n",
        "        out = model(x)\n",
        "        loss = criterion(out, y)\n",
        "        loss.backward()\n",
        "        optimizer.step()\n",
        "        train_loss += loss.item()\n",
        "    train_loss /= len(train_loader)\n",
        "\n",
        "    # --- validation ---\n",
        "    model.eval()\n",
        "    val_loss = 0.0\n",
        "    with torch.no_grad():\n",
        "        for x, y in val_loader:\n",
        "            x, y = x.to(device), y.to(device)\n",
        "            out = model(x)\n",
        "            loss = criterion(out, y)\n",
        "            val_loss += loss.item()\n",
        "    val_loss /= len(val_loader)\n",
        "\n",
        "    train_loss_history.append(train_loss)\n",
        "    val_loss_history.append(val_loss)\n",
        "    print(f\"[{epoch+1:02d}] train_loss={train_loss:.4f} | val_loss={val_loss:.4f}\")\n",
        "\n",
        "    # --- check improvement ---\n",
        "    if val_loss < best_val_loss:\n",
        "        best_val_loss = val_loss\n",
        "        epochs_no_improve = 0\n",
        "        torch.save(model.state_dict(), best_model_path)   #save best model\n",
        "        print(\"Saved best model\")\n",
        "    else:\n",
        "        epochs_no_improve += 1\n",
        "        if epochs_no_improve >= patience:\n",
        "            print(\"Early stopping epoch: \", epoch)\n",
        "            break"
      ],
      "metadata": {
        "colab": {
          "base_uri": "https://localhost:8080/"
        },
        "id": "RRznyd40xVrA",
        "outputId": "afcf4b42-3d7b-47e3-ef7f-97e6ba0274bf"
      },
      "execution_count": 7,
      "outputs": [
        {
          "output_type": "stream",
          "name": "stdout",
          "text": [
            "[01] train_loss=0.4580 | val_loss=0.2554\n",
            "Saved best model\n",
            "[02] train_loss=0.2014 | val_loss=0.1854\n",
            "Saved best model\n",
            "[03] train_loss=0.1445 | val_loss=0.1524\n",
            "Saved best model\n",
            "[04] train_loss=0.1118 | val_loss=0.1295\n",
            "Saved best model\n",
            "[05] train_loss=0.0889 | val_loss=0.1146\n",
            "Saved best model\n",
            "[06] train_loss=0.0724 | val_loss=0.1179\n",
            "[07] train_loss=0.0589 | val_loss=0.1168\n",
            "Early stopping epoch:  6\n"
          ]
        }
      ]
    },
    {
      "cell_type": "code",
      "source": [
        "best_model = MLP().to(device)\n",
        "best_model.load_state_dict(torch.load(best_model_path, map_location=device))\n",
        "best_model.eval()\n",
        "print(\"Best model loaded\")"
      ],
      "metadata": {
        "colab": {
          "base_uri": "https://localhost:8080/"
        },
        "id": "1QYPHfPPHBsz",
        "outputId": "aebf9e55-3f71-48a1-ca3f-c3808ed7d884"
      },
      "execution_count": 8,
      "outputs": [
        {
          "output_type": "stream",
          "name": "stdout",
          "text": [
            "Best model loaded\n"
          ]
        }
      ]
    },
    {
      "cell_type": "code",
      "source": [
        "test_loader = DataLoader(test_set, batch_size=256)\n",
        "\n",
        "correct, total = 0, 0\n",
        "with torch.no_grad():\n",
        "    for x, y in test_loader:     #  batch of images and labels\n",
        "        x, y = x.to(device), y.to(device)\n",
        "        preds = best_model(x).argmax(dim=1)\n",
        "        correct += (preds == y).sum().item()\n",
        "        total += y.size(0)\n",
        "\n",
        "print(f\"Test accuracy: {100 * correct / total:.2f}%\")"
      ],
      "metadata": {
        "colab": {
          "base_uri": "https://localhost:8080/"
        },
        "id": "nA_Sufo7y50-",
        "outputId": "c737239a-89c7-4dc7-94ed-3e1928005328"
      },
      "execution_count": 9,
      "outputs": [
        {
          "output_type": "stream",
          "name": "stdout",
          "text": [
            "Test accuracy: 96.84%\n"
          ]
        }
      ]
    },
    {
      "cell_type": "code",
      "source": [
        "import matplotlib.pyplot as plt\n",
        "epochs = range(1, len(train_loss_history) + 1)\n",
        "plt.plot(epochs, train_loss_history, \"bo\", label=\"Training loss\")\n",
        "plt.plot(epochs, val_loss_history, \"b\", label=\"Validation loss\")\n",
        "plt.title(\"Training and validation loss\")\n",
        "plt.xlabel(\"Epochs\")\n",
        "plt.ylabel(\"Loss\")\n",
        "plt.legend()\n",
        "plt.show()"
      ],
      "metadata": {
        "colab": {
          "base_uri": "https://localhost:8080/",
          "height": 472
        },
        "id": "iNBVntlZIGos",
        "outputId": "97b039e9-e9bc-40dd-f7fc-a086a805e614"
      },
      "execution_count": 10,
      "outputs": [
        {
          "output_type": "display_data",
          "data": {
            "text/plain": [
              "<Figure size 640x480 with 1 Axes>"
            ],
            "image/png": "[encoded data removed]"
          },
          "metadata": {}
        }
      ]
    }
  ]
}