{
 "cells": [
  {
   "cell_type": "markdown",
   "metadata": {},
   "source": [
    "# MLP"
   ]
  },
  {
   "cell_type": "code",
   "execution_count": 1,
   "metadata": {},
   "outputs": [],
   "source": [
    "import tensorflow as tf\n",
    "from tensorflow import keras\n",
    "from tensorflow.keras import layers\n",
    "from tensorflow.keras.datasets import mnist\n",
    "\n",
    "import matplotlib.pyplot as plt\n"
   ]
  },
  {
   "cell_type": "code",
   "execution_count": 2,
   "metadata": {},
   "outputs": [
    {
     "name": "stdout",
     "output_type": "stream",
     "text": [
      "60000 train samples\n",
      "10000 test samples\n",
      "image shape (28, 28)\n"
     ]
    }
   ],
   "source": [
    "num_classes = 10\n",
    "\n",
    "(x_train, y_train), (x_test, y_test) = mnist.load_data()\n",
    "print(x_train.shape[0], 'train samples')\n",
    "print(x_test.shape[0], 'test samples')\n",
    "print('image shape', x_train[0].shape)"
   ]
  },
  {
   "cell_type": "code",
   "execution_count": 3,
   "metadata": {},
   "outputs": [
    {
     "name": "stdout",
     "output_type": "stream",
     "text": [
      "label:  5\n"
     ]
    },
    {
     "data": {
      "image/png": "[encoded data removed]",
      "text/plain": [
       "<Figure size 432x288 with 1 Axes>"
      ]
     },
     "metadata": {
      "needs_background": "light"
     },
     "output_type": "display_data"
    }
   ],
   "source": [
    "sample = 0\n",
    "print('label: ', y_train[sample])\n",
    "image = x_train[sample]\n",
    "\n",
    "plt.imshow(image, cmap='gray')\n",
    "plt.show()"
   ]
  },
  {
   "cell_type": "code",
   "execution_count": 4,
   "metadata": {},
   "outputs": [
    {
     "name": "stdout",
     "output_type": "stream",
     "text": [
      "input shape:  784\n"
     ]
    }
   ],
   "source": [
    "input_dim = 28 * 28 #784\n",
    "\n",
    "x_train = x_train.reshape(60000, input_dim)\n",
    "x_test = x_test.reshape(10000, input_dim)\n",
    "print('input shape: ', x_train.shape[1])\n",
    "\n",
    "x_train = x_train.astype('float32')\n",
    "x_test = x_test.astype('float32')\n",
    "x_train /= 255\n",
    "x_test /= 255\n",
    "\n",
    "# convert class vectors to binary class matrices\n",
    "y_train = keras.utils.to_categorical(y_train, num_classes)\n",
    "y_test = keras.utils.to_categorical(y_test, num_classes)"
   ]
  },
  {
   "cell_type": "markdown",
   "metadata": {},
   "source": [
    "# Model"
   ]
  },
  {
   "cell_type": "code",
   "execution_count": 5,
   "metadata": {},
   "outputs": [
    {
     "name": "stdout",
     "output_type": "stream",
     "text": [
      "Model: \"sequential\"\n",
      "_________________________________________________________________\n",
      "Layer (type)                 Output Shape              Param #   \n",
      "=================================================================\n",
      "dense (Dense)                (None, 512)               401920    \n",
      "_________________________________________________________________\n",
      "dense_1 (Dense)              (None, 512)               262656    \n",
      "_________________________________________________________________\n",
      "dense_2 (Dense)              (None, 10)                5130      \n",
      "=================================================================\n",
      "Total params: 669,706\n",
      "Trainable params: 669,706\n",
      "Non-trainable params: 0\n",
      "_________________________________________________________________\n"
     ]
    }
   ],
   "source": [
    "model =  keras.Sequential()\n",
    "model.add(layers.Dense(512, activation='relu', input_shape=(784,)))\n",
    "model.add(layers.Dense(512, activation='relu'))\n",
    "model.add(layers.Dense(10, activation='softmax'))\n",
    "\n",
    "model.summary()\n",
    "model.compile(loss='categorical_crossentropy',   optimizer='adam', metrics=['accuracy'])\n"
   ]
  },
  {
   "cell_type": "code",
   "execution_count": 6,
   "metadata": {},
   "outputs": [
    {
     "name": "stdout",
     "output_type": "stream",
     "text": [
      "Epoch 1/10\n",
      "750/750 - 3s - loss: 0.2148 - accuracy: 0.9341 - val_loss: 0.1105 - val_accuracy: 0.9662\n",
      "Epoch 2/10\n",
      "750/750 - 3s - loss: 0.0831 - accuracy: 0.9744 - val_loss: 0.0951 - val_accuracy: 0.9699\n",
      "Epoch 3/10\n",
      "750/750 - 3s - loss: 0.0544 - accuracy: 0.9829 - val_loss: 0.0794 - val_accuracy: 0.9774\n",
      "Epoch 4/10\n",
      "750/750 - 3s - loss: 0.0387 - accuracy: 0.9881 - val_loss: 0.1099 - val_accuracy: 0.9700\n",
      "Epoch 5/10\n",
      "750/750 - 3s - loss: 0.0303 - accuracy: 0.9902 - val_loss: 0.1009 - val_accuracy: 0.9753\n",
      "Epoch 6/10\n",
      "750/750 - 3s - loss: 0.0268 - accuracy: 0.9908 - val_loss: 0.1010 - val_accuracy: 0.9757\n",
      "Epoch 7/10\n",
      "750/750 - 3s - loss: 0.0223 - accuracy: 0.9922 - val_loss: 0.1210 - val_accuracy: 0.9733\n",
      "Epoch 8/10\n",
      "750/750 - 3s - loss: 0.0211 - accuracy: 0.9933 - val_loss: 0.1079 - val_accuracy: 0.9744\n",
      "Epoch 9/10\n",
      "750/750 - 3s - loss: 0.0155 - accuracy: 0.9950 - val_loss: 0.1033 - val_accuracy: 0.9772\n",
      "Epoch 10/10\n",
      "750/750 - 3s - loss: 0.0164 - accuracy: 0.9947 - val_loss: 0.0996 - val_accuracy: 0.9790\n"
     ]
    }
   ],
   "source": [
    "history = model.fit(x_train,\n",
    "                    y_train,\n",
    "                    epochs=10,\n",
    "                    batch_size=64,                                   \n",
    "                    validation_split=0.2,\n",
    "                    verbose = 2)"
   ]
  },
  {
   "cell_type": "code",
   "execution_count": 7,
   "metadata": {},
   "outputs": [
    {
     "data": {
      "text/plain": [
       "dict_keys(['loss', 'accuracy', 'val_loss', 'val_accuracy'])"
      ]
     },
     "execution_count": 7,
     "metadata": {},
     "output_type": "execute_result"
    }
   ],
   "source": [
    "history_dict = history.history\n",
    "history_dict.keys()"
   ]
  },
  {
   "cell_type": "code",
   "execution_count": 8,
   "metadata": {},
   "outputs": [
    {
     "data": {
      "image/png": "[encoded data removed]",
      "text/plain": [
       "<Figure size 432x288 with 1 Axes>"
      ]
     },
     "metadata": {
      "needs_background": "light"
     },
     "output_type": "display_data"
    }
   ],
   "source": [
    "history_dict = history.history\n",
    "loss_values = history_dict[\"loss\"]\n",
    "val_loss_values = history_dict[\"val_loss\"]\n",
    "epochs = range(1, len(loss_values) + 1)\n",
    "plt.plot(epochs, loss_values, \"bo\", label=\"Training loss\")\n",
    "plt.plot(epochs, val_loss_values, \"b\", label=\"Validation loss\")\n",
    "plt.title(\"Training and validation loss\")\n",
    "plt.xlabel(\"Epochs\")\n",
    "plt.ylabel(\"Loss\")\n",
    "plt.legend()\n",
    "plt.show()"
   ]
  },
  {
   "cell_type": "code",
   "execution_count": 9,
   "metadata": {},
   "outputs": [
    {
     "name": "stdout",
     "output_type": "stream",
     "text": [
      "Test score: 0.08862584084272385\n",
      "Test accuracy: 0.9783999919891357\n"
     ]
    }
   ],
   "source": [
    "score = model.evaluate(x_test, y_test, verbose=0) \n",
    "print('Test score:', score[0]) \n",
    "print('Test accuracy:', score[1])"
   ]
  },
  {
   "cell_type": "markdown",
   "metadata": {},
   "source": [
    "## Adding Dropout"
   ]
  },
  {
   "cell_type": "code",
   "execution_count": 10,
   "metadata": {},
   "outputs": [
    {
     "name": "stdout",
     "output_type": "stream",
     "text": [
      "Model: \"sequential_1\"\n",
      "_________________________________________________________________\n",
      "Layer (type)                 Output Shape              Param #   \n",
      "=================================================================\n",
      "dense_3 (Dense)              (None, 512)               401920    \n",
      "_________________________________________________________________\n",
      "dropout (Dropout)            (None, 512)               0         \n",
      "_________________________________________________________________\n",
      "dense_4 (Dense)              (None, 512)               262656    \n",
      "_________________________________________________________________\n",
      "dropout_1 (Dropout)          (None, 512)               0         \n",
      "_________________________________________________________________\n",
      "dense_5 (Dense)              (None, 10)                5130      \n",
      "=================================================================\n",
      "Total params: 669,706\n",
      "Trainable params: 669,706\n",
      "Non-trainable params: 0\n",
      "_________________________________________________________________\n",
      "Epoch 1/10\n",
      "750/750 - 3s - loss: 0.3606 - accuracy: 0.8878 - val_loss: 0.1342 - val_accuracy: 0.9597\n",
      "Epoch 2/10\n",
      "750/750 - 3s - loss: 0.1743 - accuracy: 0.9473 - val_loss: 0.0996 - val_accuracy: 0.9694\n",
      "Epoch 3/10\n",
      "750/750 - 3s - loss: 0.1413 - accuracy: 0.9568 - val_loss: 0.1000 - val_accuracy: 0.9697\n",
      "Epoch 4/10\n",
      "750/750 - 3s - loss: 0.1210 - accuracy: 0.9636 - val_loss: 0.0909 - val_accuracy: 0.9729\n",
      "Epoch 5/10\n",
      "750/750 - 3s - loss: 0.1033 - accuracy: 0.9682 - val_loss: 0.0921 - val_accuracy: 0.9729\n",
      "Epoch 6/10\n",
      "750/750 - 3s - loss: 0.0993 - accuracy: 0.9692 - val_loss: 0.0822 - val_accuracy: 0.9758\n",
      "Epoch 7/10\n",
      "750/750 - 3s - loss: 0.0916 - accuracy: 0.9716 - val_loss: 0.0883 - val_accuracy: 0.9745\n",
      "Epoch 8/10\n",
      "750/750 - 3s - loss: 0.0848 - accuracy: 0.9737 - val_loss: 0.0780 - val_accuracy: 0.9785\n",
      "Epoch 9/10\n",
      "750/750 - 3s - loss: 0.0805 - accuracy: 0.9748 - val_loss: 0.0840 - val_accuracy: 0.9762\n",
      "Epoch 10/10\n",
      "750/750 - 3s - loss: 0.0758 - accuracy: 0.9758 - val_loss: 0.0761 - val_accuracy: 0.9791\n"
     ]
    }
   ],
   "source": [
    "model =  keras.Sequential()\n",
    "model.add(layers.Dense(512, activation='relu', input_shape=(784,)))\n",
    "model.add(layers.Dropout(0.5))\n",
    "model.add(layers.Dense(512, activation='relu'))\n",
    "model.add(layers.Dropout(0.5))\n",
    "model.add(layers.Dense(10, activation='softmax'))\n",
    "\n",
    "model.summary()\n",
    "model.compile(loss='categorical_crossentropy',   optimizer='adam', metrics=['accuracy'])\n",
    "\n",
    "\n",
    "history = model.fit(x_train,\n",
    "                    y_train,\n",
    "                    epochs=10,\n",
    "                    batch_size=64,                                   \n",
    "                    validation_split=0.2,\n",
    "                    verbose = 2)"
   ]
  },
  {
   "cell_type": "markdown",
   "metadata": {},
   "source": [
    "## Adding Batch Normalization"
   ]
  },
  {
   "cell_type": "code",
   "execution_count": 11,
   "metadata": {},
   "outputs": [
    {
     "name": "stdout",
     "output_type": "stream",
     "text": [
      "Model: \"sequential_2\"\n",
      "_________________________________________________________________\n",
      "Layer (type)                 Output Shape              Param #   \n",
      "=================================================================\n",
      "dense_6 (Dense)              (None, 512)               401920    \n",
      "_________________________________________________________________\n",
      "batch_normalization (BatchNo (None, 512)               2048      \n",
      "_________________________________________________________________\n",
      "activation (Activation)      (None, 512)               0         \n",
      "_________________________________________________________________\n",
      "dropout_2 (Dropout)          (None, 512)               0         \n",
      "_________________________________________________________________\n",
      "dense_7 (Dense)              (None, 512)               262656    \n",
      "_________________________________________________________________\n",
      "batch_normalization_1 (Batch (None, 512)               2048      \n",
      "_________________________________________________________________\n",
      "activation_1 (Activation)    (None, 512)               0         \n",
      "_________________________________________________________________\n",
      "dropout_3 (Dropout)          (None, 512)               0         \n",
      "_________________________________________________________________\n",
      "dense_8 (Dense)              (None, 10)                5130      \n",
      "=================================================================\n",
      "Total params: 673,802\n",
      "Trainable params: 671,754\n",
      "Non-trainable params: 2,048\n",
      "_________________________________________________________________\n",
      "Epoch 1/10\n",
      "750/750 - 4s - loss: 0.3709 - accuracy: 0.8852 - val_loss: 0.1346 - val_accuracy: 0.9607\n",
      "Epoch 2/10\n",
      "750/750 - 4s - loss: 0.1960 - accuracy: 0.9401 - val_loss: 0.1026 - val_accuracy: 0.9689\n",
      "Epoch 3/10\n",
      "750/750 - 4s - loss: 0.1593 - accuracy: 0.9493 - val_loss: 0.0993 - val_accuracy: 0.9699\n",
      "Epoch 4/10\n",
      "750/750 - 4s - loss: 0.1384 - accuracy: 0.9569 - val_loss: 0.0801 - val_accuracy: 0.9758\n",
      "Epoch 5/10\n",
      "750/750 - 4s - loss: 0.1218 - accuracy: 0.9621 - val_loss: 0.0807 - val_accuracy: 0.9762\n",
      "Epoch 6/10\n",
      "750/750 - 4s - loss: 0.1115 - accuracy: 0.9647 - val_loss: 0.0794 - val_accuracy: 0.9776\n",
      "Epoch 7/10\n",
      "750/750 - 4s - loss: 0.1012 - accuracy: 0.9681 - val_loss: 0.0721 - val_accuracy: 0.9782\n",
      "Epoch 8/10\n",
      "750/750 - 4s - loss: 0.0940 - accuracy: 0.9697 - val_loss: 0.0704 - val_accuracy: 0.9796\n",
      "Epoch 9/10\n",
      "750/750 - 4s - loss: 0.0898 - accuracy: 0.9714 - val_loss: 0.0716 - val_accuracy: 0.9801\n",
      "Epoch 10/10\n",
      "750/750 - 4s - loss: 0.0830 - accuracy: 0.9727 - val_loss: 0.0691 - val_accuracy: 0.9796\n"
     ]
    }
   ],
   "source": [
    "model =  keras.Sequential()\n",
    "\n",
    "model.add(layers.Dense(512, input_shape=(784,)))\n",
    "model.add(layers.BatchNormalization()) \n",
    "model.add(layers.Activation('relu')) \n",
    "model.add(layers.Dropout(0.5))\n",
    "\n",
    "model.add(layers.Dense(512))\n",
    "model.add(layers.BatchNormalization()) \n",
    "model.add(layers.Activation('relu'))\n",
    "model.add(layers.Dropout(0.5))\n",
    "\n",
    "model.add(layers.Dense(10, activation='softmax'))\n",
    "\n",
    "model.summary()\n",
    "model.compile(loss='categorical_crossentropy',   optimizer='adam', metrics=['accuracy'])\n",
    "\n",
    "\n",
    "history = model.fit(x_train,\n",
    "                    y_train,\n",
    "                    epochs=10,\n",
    "                    batch_size=64,                                   \n",
    "                    validation_split=0.2,\n",
    "                    verbose = 2)"
   ]
  },
  {
   "cell_type": "code",
   "execution_count": null,
   "metadata": {},
   "outputs": [],
   "source": []
  }
 ],
 "metadata": {
  "kernelspec": {
   "display_name": "Python 3",
   "language": "python",
   "name": "python3"
  },
  "language_info": {
   "codemirror_mode": {
    "name": "ipython",
    "version": 3
   },
   "file_extension": ".py",
   "mimetype": "text/x-python",
   "name": "python",
   "nbconvert_exporter": "python",
   "pygments_lexer": "ipython3",
   "version": "3.8.8"
  }
 },
 "nbformat": 4,
 "nbformat_minor": 1
}
