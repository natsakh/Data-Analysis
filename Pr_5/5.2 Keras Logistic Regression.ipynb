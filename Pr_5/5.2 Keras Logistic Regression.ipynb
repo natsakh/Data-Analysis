{
 "cells": [
  {
   "cell_type": "markdown",
   "metadata": {},
   "source": [
    "# Logistic Regression"
   ]
  },
  {
   "cell_type": "code",
   "execution_count": 1,
   "metadata": {},
   "outputs": [],
   "source": [
    "import tensorflow as tf\n",
    "from tensorflow import keras\n",
    "from tensorflow.keras import layers\n",
    "from tensorflow.keras.datasets import mnist\n",
    "\n",
    "import matplotlib.pyplot as plt"
   ]
  },
  {
   "cell_type": "code",
   "execution_count": 2,
   "metadata": {},
   "outputs": [
    {
     "name": "stdout",
     "output_type": "stream",
     "text": [
      "60000 train samples\n",
      "10000 test samples\n",
      "image shape (28, 28)\n"
     ]
    }
   ],
   "source": [
    "num_classes = 10\n",
    "\n",
    "(x_train, y_train), (x_test, y_test) = mnist.load_data()\n",
    "print(x_train.shape[0], 'train samples')\n",
    "print(x_test.shape[0], 'test samples')\n",
    "print('image shape', x_train[0].shape)"
   ]
  },
  {
   "cell_type": "code",
   "execution_count": 3,
   "metadata": {},
   "outputs": [
    {
     "name": "stdout",
     "output_type": "stream",
     "text": [
      "label:  5\n"
     ]
    },
    {
     "data": {
      "image/png": "[encoded data removed]",
      "text/plain": [
       "<Figure size 432x288 with 1 Axes>"
      ]
     },
     "metadata": {
      "needs_background": "light"
     },
     "output_type": "display_data"
    }
   ],
   "source": [
    "sample = 0\n",
    "print('label: ', y_train[sample])\n",
    "image = x_train[sample]\n",
    "\n",
    "plt.imshow(image, cmap='gray')\n",
    "plt.show()"
   ]
  },
  {
   "cell_type": "code",
   "execution_count": 4,
   "metadata": {},
   "outputs": [],
   "source": [
    "input_dim = 28 * 28 #784\n",
    "\n",
    "x_train = x_train.reshape(60000, input_dim)\n",
    "x_test = x_test.reshape(10000, input_dim)\n",
    "x_train = x_train.astype('float32')\n",
    "x_test = x_test.astype('float32')\n",
    "x_train /= 255\n",
    "x_test /= 255\n",
    "\n",
    "# convert class vectors to binary class matrices\n",
    "y_train = keras.utils.to_categorical(y_train, num_classes)\n",
    "y_test = keras.utils.to_categorical(y_test, num_classes)"
   ]
  },
  {
   "cell_type": "markdown",
   "metadata": {},
   "source": [
    "# Model"
   ]
  },
  {
   "cell_type": "code",
   "execution_count": 5,
   "metadata": {},
   "outputs": [],
   "source": [
    "model = keras.Sequential([layers.Dense(num_classes, activation=\"sigmoid\")])"
   ]
  },
  {
   "cell_type": "code",
   "execution_count": 6,
   "metadata": {},
   "outputs": [],
   "source": [
    "model.compile(optimizer='sgd', loss='categorical_crossentropy', metrics=['accuracy']) "
   ]
  },
  {
   "cell_type": "code",
   "execution_count": 7,
   "metadata": {},
   "outputs": [
    {
     "name": "stdout",
     "output_type": "stream",
     "text": [
      "Epoch 1/10\n",
      "938/938 [==============================] - 1s 706us/step - loss: 0.9894 - accuracy: 0.7805 - val_loss: 0.6050 - val_accuracy: 0.8616\n",
      "Epoch 2/10\n",
      "938/938 [==============================] - 1s 606us/step - loss: 0.5565 - accuracy: 0.8650 - val_loss: 0.4800 - val_accuracy: 0.8804\n",
      "Epoch 3/10\n",
      "938/938 [==============================] - 1s 605us/step - loss: 0.4757 - accuracy: 0.8777 - val_loss: 0.4292 - val_accuracy: 0.8894\n",
      "Epoch 4/10\n",
      "938/938 [==============================] - 1s 609us/step - loss: 0.4362 - accuracy: 0.8851 - val_loss: 0.4006 - val_accuracy: 0.8964\n",
      "Epoch 5/10\n",
      "938/938 [==============================] - 1s 607us/step - loss: 0.4117 - accuracy: 0.8897 - val_loss: 0.3816 - val_accuracy: 0.8999\n",
      "Epoch 6/10\n",
      "938/938 [==============================] - 1s 601us/step - loss: 0.3946 - accuracy: 0.8931 - val_loss: 0.3675 - val_accuracy: 0.9021\n",
      "Epoch 7/10\n",
      "938/938 [==============================] - 1s 602us/step - loss: 0.3817 - accuracy: 0.8957 - val_loss: 0.3570 - val_accuracy: 0.9052\n",
      "Epoch 8/10\n",
      "938/938 [==============================] - 1s 607us/step - loss: 0.3715 - accuracy: 0.8982 - val_loss: 0.3488 - val_accuracy: 0.9066\n",
      "Epoch 9/10\n",
      "938/938 [==============================] - 1s 603us/step - loss: 0.3633 - accuracy: 0.9001 - val_loss: 0.3418 - val_accuracy: 0.9082\n",
      "Epoch 10/10\n",
      "938/938 [==============================] - 1s 602us/step - loss: 0.3563 - accuracy: 0.9018 - val_loss: 0.3364 - val_accuracy: 0.9088\n"
     ]
    }
   ],
   "source": [
    "history = model.fit(x_train,\n",
    "                    y_train,\n",
    "                    epochs=10,\n",
    "                    batch_size=64,\n",
    "                    validation_data=(x_test, y_test), verbose = 1)"
   ]
  },
  {
   "cell_type": "code",
   "execution_count": 8,
   "metadata": {},
   "outputs": [
    {
     "name": "stdout",
     "output_type": "stream",
     "text": [
      "Model: \"sequential\"\n",
      "_________________________________________________________________\n",
      "Layer (type)                 Output Shape              Param #   \n",
      "=================================================================\n",
      "dense (Dense)                (None, 10)                7850      \n",
      "=================================================================\n",
      "Total params: 7,850\n",
      "Trainable params: 7,850\n",
      "Non-trainable params: 0\n",
      "_________________________________________________________________\n",
      "None\n"
     ]
    }
   ],
   "source": [
    "print(model.summary())"
   ]
  },
  {
   "cell_type": "markdown",
   "metadata": {},
   "source": [
    "Number of parameters = 7850: (28 * 28 * 10 + 10 (bias))"
   ]
  },
  {
   "cell_type": "code",
   "execution_count": 9,
   "metadata": {},
   "outputs": [
    {
     "data": {
      "text/plain": [
       "dict_keys(['loss', 'accuracy', 'val_loss', 'val_accuracy'])"
      ]
     },
     "execution_count": 9,
     "metadata": {},
     "output_type": "execute_result"
    }
   ],
   "source": [
    "history_dict = history.history\n",
    "history_dict.keys()"
   ]
  },
  {
   "cell_type": "code",
   "execution_count": 10,
   "metadata": {},
   "outputs": [
    {
     "data": {
      "image/png": "[encoded data removed]",
      "text/plain": [
       "<Figure size 432x288 with 1 Axes>"
      ]
     },
     "metadata": {
      "needs_background": "light"
     },
     "output_type": "display_data"
    }
   ],
   "source": [
    "history_dict = history.history\n",
    "loss_values = history_dict[\"loss\"]\n",
    "val_loss_values = history_dict[\"val_loss\"]\n",
    "epochs = range(1, len(loss_values) + 1)\n",
    "plt.plot(epochs, loss_values, \"bo\", label=\"Training loss\")\n",
    "plt.plot(epochs, val_loss_values, \"b\", label=\"Validation loss\")\n",
    "plt.title(\"Training and validation loss\")\n",
    "plt.xlabel(\"Epochs\")\n",
    "plt.ylabel(\"Loss\")\n",
    "plt.legend()\n",
    "plt.show()"
   ]
  },
  {
   "cell_type": "code",
   "execution_count": 11,
   "metadata": {},
   "outputs": [
    {
     "name": "stdout",
     "output_type": "stream",
     "text": [
      "Test score: 0.3364495635032654\n",
      "Test accuracy: 0.9088000059127808\n"
     ]
    }
   ],
   "source": [
    "score = model.evaluate(x_test, y_test, verbose=0) \n",
    "print('Test score:', score[0]) \n",
    "print('Test accuracy:', score[1])"
   ]
  },
  {
   "cell_type": "markdown",
   "metadata": {},
   "source": [
    "## Train, Validation, Test data"
   ]
  },
  {
   "cell_type": "code",
   "execution_count": 12,
   "metadata": {},
   "outputs": [
    {
     "name": "stdout",
     "output_type": "stream",
     "text": [
      "Epoch 1/10\n",
      "750/750 - 1s - loss: 1.1009 - accuracy: 0.7413 - val_loss: 0.6598 - val_accuracy: 0.8603\n",
      "Epoch 2/10\n",
      "750/750 - 0s - loss: 0.6080 - accuracy: 0.8541 - val_loss: 0.5099 - val_accuracy: 0.8791\n",
      "Epoch 3/10\n",
      "750/750 - 0s - loss: 0.5124 - accuracy: 0.8699 - val_loss: 0.4520 - val_accuracy: 0.8859\n",
      "Epoch 4/10\n",
      "750/750 - 0s - loss: 0.4662 - accuracy: 0.8785 - val_loss: 0.4191 - val_accuracy: 0.8924\n",
      "Epoch 5/10\n",
      "750/750 - 0s - loss: 0.4378 - accuracy: 0.8837 - val_loss: 0.3981 - val_accuracy: 0.8965\n",
      "Epoch 6/10\n",
      "750/750 - 0s - loss: 0.4180 - accuracy: 0.8880 - val_loss: 0.3829 - val_accuracy: 0.8991\n",
      "Epoch 7/10\n",
      "750/750 - 0s - loss: 0.4032 - accuracy: 0.8909 - val_loss: 0.3714 - val_accuracy: 0.9014\n",
      "Epoch 8/10\n",
      "750/750 - 0s - loss: 0.3915 - accuracy: 0.8934 - val_loss: 0.3624 - val_accuracy: 0.9023\n",
      "Epoch 9/10\n",
      "750/750 - 0s - loss: 0.3821 - accuracy: 0.8954 - val_loss: 0.3549 - val_accuracy: 0.9051\n",
      "Epoch 10/10\n",
      "750/750 - 0s - loss: 0.3742 - accuracy: 0.8967 - val_loss: 0.3485 - val_accuracy: 0.9050\n"
     ]
    }
   ],
   "source": [
    "model = keras.Sequential([layers.Dense(num_classes, activation=\"sigmoid\")])\n",
    "model.compile(optimizer='sgd', loss='categorical_crossentropy', metrics=['accuracy']) \n",
    "history = model.fit(x_train,\n",
    "                    y_train,\n",
    "                    epochs=10,\n",
    "                    batch_size=64,\n",
    "                    validation_split=0.2, verbose = 2)"
   ]
  },
  {
   "cell_type": "code",
   "execution_count": 13,
   "metadata": {},
   "outputs": [
    {
     "name": "stdout",
     "output_type": "stream",
     "text": [
      "Test score: 0.3495998978614807\n",
      "Test accuracy: 0.90420001745224\n"
     ]
    }
   ],
   "source": [
    "score = model.evaluate(x_test, y_test, verbose=0) \n",
    "print('Test score:', score[0]) \n",
    "print('Test accuracy:', score[1])"
   ]
  },
  {
   "cell_type": "markdown",
   "metadata": {},
   "source": [
    "## Callbacks"
   ]
  },
  {
   "cell_type": "code",
   "execution_count": 15,
   "metadata": {},
   "outputs": [
    {
     "name": "stdout",
     "output_type": "stream",
     "text": [
      "Epoch 1/10\n",
      "750/750 - 1s - loss: 1.0889 - accuracy: 0.7484 - val_loss: 0.6579 - val_accuracy: 0.8574\n",
      "Epoch 2/10\n",
      "750/750 - 0s - loss: 0.6096 - accuracy: 0.8528 - val_loss: 0.5101 - val_accuracy: 0.8762\n",
      "Epoch 3/10\n",
      "750/750 - 0s - loss: 0.5139 - accuracy: 0.8695 - val_loss: 0.4526 - val_accuracy: 0.8841\n",
      "Epoch 4/10\n",
      "750/750 - 0s - loss: 0.4674 - accuracy: 0.8782 - val_loss: 0.4193 - val_accuracy: 0.8915\n",
      "Epoch 5/10\n",
      "750/750 - 0s - loss: 0.4387 - accuracy: 0.8830 - val_loss: 0.3983 - val_accuracy: 0.8962\n",
      "Epoch 6/10\n",
      "750/750 - 0s - loss: 0.4187 - accuracy: 0.8873 - val_loss: 0.3828 - val_accuracy: 0.9001\n",
      "Epoch 7/10\n",
      "750/750 - 0s - loss: 0.4039 - accuracy: 0.8908 - val_loss: 0.3713 - val_accuracy: 0.9006\n",
      "Epoch 8/10\n",
      "750/750 - 0s - loss: 0.3922 - accuracy: 0.8936 - val_loss: 0.3620 - val_accuracy: 0.9034\n",
      "Epoch 9/10\n",
      "750/750 - 0s - loss: 0.3827 - accuracy: 0.8955 - val_loss: 0.3545 - val_accuracy: 0.9057\n",
      "Epoch 10/10\n",
      "750/750 - 0s - loss: 0.3748 - accuracy: 0.8970 - val_loss: 0.3484 - val_accuracy: 0.9062\n"
     ]
    }
   ],
   "source": [
    "my_callbacks = [tf.keras.callbacks.EarlyStopping(patience=2)]\n",
    "\n",
    "model = keras.Sequential([layers.Dense(num_classes, activation=\"sigmoid\")])\n",
    "model.compile(optimizer='sgd', loss='categorical_crossentropy', metrics=['accuracy']) \n",
    "history = model.fit(x_train,\n",
    "                    y_train,\n",
    "                    epochs=10,\n",
    "                    batch_size=64,\n",
    "                    callbacks = my_callbacks,\n",
    "                    validation_split=0.2, verbose = 2)"
   ]
  },
  {
   "cell_type": "code",
   "execution_count": null,
   "metadata": {},
   "outputs": [],
   "source": []
  }
 ],
 "metadata": {
  "kernelspec": {
   "display_name": "Python 3",
   "language": "python",
   "name": "python3"
  },
  "language_info": {
   "codemirror_mode": {
    "name": "ipython",
    "version": 3
   },
   "file_extension": ".py",
   "mimetype": "text/x-python",
   "name": "python",
   "nbconvert_exporter": "python",
   "pygments_lexer": "ipython3",
   "version": "3.8.8"
  }
 },
 "nbformat": 4,
 "nbformat_minor": 1
}
