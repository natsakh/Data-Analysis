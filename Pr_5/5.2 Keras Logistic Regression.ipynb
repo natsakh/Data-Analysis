{
 "cells": [
  {
   "cell_type": "markdown",
   "metadata": {},
   "source": [
    "# Logistic Regression"
   ]
  },
  {
   "cell_type": "code",
   "execution_count": 1,
   "metadata": {},
   "outputs": [],
   "source": [
    "import tensorflow as tf\n",
    "from tensorflow import keras\n",
    "from tensorflow.keras import layers\n",
    "from tensorflow.keras.datasets import mnist\n",
    "\n",
    "import matplotlib.pyplot as plt"
   ]
  },
  {
   "cell_type": "code",
   "execution_count": 2,
   "metadata": {},
   "outputs": [
    {
     "name": "stdout",
     "output_type": "stream",
     "text": [
      "60000 train samples\n",
      "10000 test samples\n",
      "image shape (28, 28)\n"
     ]
    }
   ],
   "source": [
    "num_classes = 10\n",
    "\n",
    "(x_train, y_train), (x_test, y_test) = mnist.load_data()\n",
    "print(x_train.shape[0], 'train samples')\n",
    "print(x_test.shape[0], 'test samples')\n",
    "print('image shape', x_train[0].shape)"
   ]
  },
  {
   "cell_type": "code",
   "execution_count": 3,
   "metadata": {},
   "outputs": [
    {
     "name": "stdout",
     "output_type": "stream",
     "text": [
      "label:  5\n"
     ]
    },
    {
     "data": {
      "image/png": "[encoded data removed]",
      "text/plain": [
       "<Figure size 432x288 with 1 Axes>"
      ]
     },
     "metadata": {
      "needs_background": "light"
     },
     "output_type": "display_data"
    }
   ],
   "source": [
    "sample = 0\n",
    "print('label: ', y_train[sample])\n",
    "image = x_train[sample]\n",
    "\n",
    "plt.imshow(image, cmap='gray')\n",
    "plt.show()"
   ]
  },
  {
   "cell_type": "code",
   "execution_count": 4,
   "metadata": {},
   "outputs": [],
   "source": [
    "input_dim = 28 * 28 #784\n",
    "\n",
    "x_train = x_train.reshape(60000, input_dim)\n",
    "x_test = x_test.reshape(10000, input_dim)\n",
    "x_train = x_train.astype('float32')\n",
    "x_test = x_test.astype('float32')\n",
    "x_train /= 255\n",
    "x_test /= 255\n",
    "\n",
    "# convert class vectors to binary class matrices\n",
    "y_train = keras.utils.to_categorical(y_train, num_classes)\n",
    "y_test = keras.utils.to_categorical(y_test, num_classes)"
   ]
  },
  {
   "cell_type": "markdown",
   "metadata": {},
   "source": [
    "# Model"
   ]
  },
  {
   "cell_type": "code",
   "execution_count": 5,
   "metadata": {},
   "outputs": [],
   "source": [
    "model = keras.Sequential([layers.Dense(num_classes, activation=\"softmax\")])"
   ]
  },
  {
   "cell_type": "code",
   "execution_count": 6,
   "metadata": {},
   "outputs": [],
   "source": [
    "model.compile(optimizer='sgd', loss='categorical_crossentropy', metrics=['accuracy']) "
   ]
  },
  {
   "cell_type": "code",
   "execution_count": 7,
   "metadata": {},
   "outputs": [
    {
     "name": "stdout",
     "output_type": "stream",
     "text": [
      "Epoch 1/10\n",
      "938/938 [==============================] - 1s 745us/step - loss: 0.9994 - accuracy: 0.7652 - val_loss: 0.6079 - val_accuracy: 0.8579\n",
      "Epoch 2/10\n",
      "938/938 [==============================] - 1s 636us/step - loss: 0.5580 - accuracy: 0.8638 - val_loss: 0.4811 - val_accuracy: 0.8784\n",
      "Epoch 3/10\n",
      "938/938 [==============================] - 1s 619us/step - loss: 0.4760 - accuracy: 0.8773 - val_loss: 0.4293 - val_accuracy: 0.8896\n",
      "Epoch 4/10\n",
      "938/938 [==============================] - 1s 608us/step - loss: 0.4362 - accuracy: 0.8853 - val_loss: 0.4009 - val_accuracy: 0.8950\n",
      "Epoch 5/10\n",
      "938/938 [==============================] - 1s 631us/step - loss: 0.4115 - accuracy: 0.8895 - val_loss: 0.3817 - val_accuracy: 0.8988\n",
      "Epoch 6/10\n",
      "938/938 [==============================] - 1s 639us/step - loss: 0.3944 - accuracy: 0.8933 - val_loss: 0.3675 - val_accuracy: 0.9005\n",
      "Epoch 7/10\n",
      "938/938 [==============================] - 1s 628us/step - loss: 0.3815 - accuracy: 0.8961 - val_loss: 0.3571 - val_accuracy: 0.9040\n",
      "Epoch 8/10\n",
      "938/938 [==============================] - 1s 620us/step - loss: 0.3713 - accuracy: 0.8984 - val_loss: 0.3488 - val_accuracy: 0.9051\n",
      "Epoch 9/10\n",
      "938/938 [==============================] - 1s 612us/step - loss: 0.3631 - accuracy: 0.8999 - val_loss: 0.3420 - val_accuracy: 0.9067\n",
      "Epoch 10/10\n",
      "938/938 [==============================] - 1s 613us/step - loss: 0.3562 - accuracy: 0.9015 - val_loss: 0.3362 - val_accuracy: 0.9075\n"
     ]
    }
   ],
   "source": [
    "history = model.fit(x_train,\n",
    "                    y_train,\n",
    "                    epochs=10,\n",
    "                    batch_size=64,\n",
    "                    validation_data=(x_test, y_test), verbose = 1)"
   ]
  },
  {
   "cell_type": "code",
   "execution_count": 8,
   "metadata": {},
   "outputs": [
    {
     "name": "stdout",
     "output_type": "stream",
     "text": [
      "Model: \"sequential\"\n",
      "_________________________________________________________________\n",
      "Layer (type)                 Output Shape              Param #   \n",
      "=================================================================\n",
      "dense (Dense)                (None, 10)                7850      \n",
      "=================================================================\n",
      "Total params: 7,850\n",
      "Trainable params: 7,850\n",
      "Non-trainable params: 0\n",
      "_________________________________________________________________\n",
      "None\n"
     ]
    }
   ],
   "source": [
    "print(model.summary())"
   ]
  },
  {
   "cell_type": "markdown",
   "metadata": {},
   "source": [
    "Number of parameters = 7850: (28 * 28 * 10 + 10 (bias))"
   ]
  },
  {
   "cell_type": "code",
   "execution_count": 9,
   "metadata": {},
   "outputs": [
    {
     "data": {
      "text/plain": [
       "dict_keys(['loss', 'accuracy', 'val_loss', 'val_accuracy'])"
      ]
     },
     "execution_count": 9,
     "metadata": {},
     "output_type": "execute_result"
    }
   ],
   "source": [
    "history_dict = history.history\n",
    "history_dict.keys()"
   ]
  },
  {
   "cell_type": "code",
   "execution_count": 10,
   "metadata": {},
   "outputs": [
    {
     "data": {
      "image/png": "[encoded data removed]",
      "text/plain": [
       "<Figure size 432x288 with 1 Axes>"
      ]
     },
     "metadata": {
      "needs_background": "light"
     },
     "output_type": "display_data"
    }
   ],
   "source": [
    "history_dict = history.history\n",
    "loss_values = history_dict[\"loss\"]\n",
    "val_loss_values = history_dict[\"val_loss\"]\n",
    "epochs = range(1, len(loss_values) + 1)\n",
    "plt.plot(epochs, loss_values, \"bo\", label=\"Training loss\")\n",
    "plt.plot(epochs, val_loss_values, \"b\", label=\"Validation loss\")\n",
    "plt.title(\"Training and validation loss\")\n",
    "plt.xlabel(\"Epochs\")\n",
    "plt.ylabel(\"Loss\")\n",
    "plt.legend()\n",
    "plt.show()"
   ]
  },
  {
   "cell_type": "code",
   "execution_count": 11,
   "metadata": {},
   "outputs": [
    {
     "name": "stdout",
     "output_type": "stream",
     "text": [
      "Test score: 0.33615320920944214\n",
      "Test accuracy: 0.9075000286102295\n"
     ]
    }
   ],
   "source": [
    "score = model.evaluate(x_test, y_test, verbose=0) \n",
    "print('Test score:', score[0]) \n",
    "print('Test accuracy:', score[1])"
   ]
  },
  {
   "cell_type": "markdown",
   "metadata": {},
   "source": [
    "## Train, Validation, Test data"
   ]
  },
  {
   "cell_type": "code",
   "execution_count": 12,
   "metadata": {},
   "outputs": [
    {
     "name": "stdout",
     "output_type": "stream",
     "text": [
      "Epoch 1/10\n",
      "750/750 - 1s - loss: 1.0840 - accuracy: 0.7446 - val_loss: 0.6523 - val_accuracy: 0.8613\n",
      "Epoch 2/10\n",
      "750/750 - 0s - loss: 0.6033 - accuracy: 0.8563 - val_loss: 0.5052 - val_accuracy: 0.8779\n",
      "Epoch 3/10\n",
      "750/750 - 0s - loss: 0.5088 - accuracy: 0.8714 - val_loss: 0.4483 - val_accuracy: 0.8853\n",
      "Epoch 4/10\n",
      "750/750 - 0s - loss: 0.4630 - accuracy: 0.8795 - val_loss: 0.4159 - val_accuracy: 0.8917\n",
      "Epoch 5/10\n",
      "750/750 - 0s - loss: 0.4349 - accuracy: 0.8845 - val_loss: 0.3952 - val_accuracy: 0.8952\n",
      "Epoch 6/10\n",
      "750/750 - 0s - loss: 0.4154 - accuracy: 0.8894 - val_loss: 0.3800 - val_accuracy: 0.8997\n",
      "Epoch 7/10\n",
      "750/750 - 0s - loss: 0.4008 - accuracy: 0.8918 - val_loss: 0.3687 - val_accuracy: 0.9015\n",
      "Epoch 8/10\n",
      "750/750 - 0s - loss: 0.3893 - accuracy: 0.8945 - val_loss: 0.3598 - val_accuracy: 0.9036\n",
      "Epoch 9/10\n",
      "750/750 - 0s - loss: 0.3801 - accuracy: 0.8964 - val_loss: 0.3523 - val_accuracy: 0.9052\n",
      "Epoch 10/10\n",
      "750/750 - 0s - loss: 0.3723 - accuracy: 0.8982 - val_loss: 0.3465 - val_accuracy: 0.9062\n"
     ]
    }
   ],
   "source": [
    "model = keras.Sequential([layers.Dense(num_classes, activation=\"softmax\")])\n",
    "model.compile(optimizer='sgd', loss='categorical_crossentropy', metrics=['accuracy']) \n",
    "history = model.fit(x_train,\n",
    "                    y_train,\n",
    "                    epochs=10,\n",
    "                    batch_size=64,\n",
    "                    validation_split=0.2, verbose = 2)"
   ]
  },
  {
   "cell_type": "code",
   "execution_count": 13,
   "metadata": {},
   "outputs": [
    {
     "name": "stdout",
     "output_type": "stream",
     "text": [
      "Test score: 0.3473134934902191\n",
      "Test accuracy: 0.9071000218391418\n"
     ]
    }
   ],
   "source": [
    "score = model.evaluate(x_test, y_test, verbose=0) \n",
    "print('Test score:', score[0]) \n",
    "print('Test accuracy:', score[1])"
   ]
  },
  {
   "cell_type": "markdown",
   "metadata": {},
   "source": [
    "## Callbacks"
   ]
  },
  {
   "cell_type": "code",
   "execution_count": 14,
   "metadata": {},
   "outputs": [
    {
     "name": "stdout",
     "output_type": "stream",
     "text": [
      "Epoch 1/10\n",
      "750/750 - 1s - loss: 1.0918 - accuracy: 0.7399 - val_loss: 0.6611 - val_accuracy: 0.8575\n",
      "Epoch 2/10\n",
      "750/750 - 0s - loss: 0.6116 - accuracy: 0.8543 - val_loss: 0.5114 - val_accuracy: 0.8762\n",
      "Epoch 3/10\n",
      "750/750 - 0s - loss: 0.5149 - accuracy: 0.8701 - val_loss: 0.4531 - val_accuracy: 0.8850\n",
      "Epoch 4/10\n",
      "750/750 - 0s - loss: 0.4679 - accuracy: 0.8780 - val_loss: 0.4201 - val_accuracy: 0.8917\n",
      "Epoch 5/10\n",
      "750/750 - 0s - loss: 0.4389 - accuracy: 0.8837 - val_loss: 0.3987 - val_accuracy: 0.8942\n",
      "Epoch 6/10\n",
      "750/750 - 0s - loss: 0.4189 - accuracy: 0.8876 - val_loss: 0.3834 - val_accuracy: 0.8975\n",
      "Epoch 7/10\n",
      "750/750 - 0s - loss: 0.4038 - accuracy: 0.8904 - val_loss: 0.3717 - val_accuracy: 0.9001\n",
      "Epoch 8/10\n",
      "750/750 - 0s - loss: 0.3920 - accuracy: 0.8937 - val_loss: 0.3629 - val_accuracy: 0.9017\n",
      "Epoch 9/10\n",
      "750/750 - 0s - loss: 0.3826 - accuracy: 0.8957 - val_loss: 0.3552 - val_accuracy: 0.9032\n",
      "Epoch 10/10\n",
      "750/750 - 0s - loss: 0.3746 - accuracy: 0.8971 - val_loss: 0.3491 - val_accuracy: 0.9043\n"
     ]
    }
   ],
   "source": [
    "my_callbacks = [tf.keras.callbacks.EarlyStopping(patience=2)]\n",
    "\n",
    "model = keras.Sequential([layers.Dense(num_classes, activation=\"softmax\")])\n",
    "model.compile(optimizer='sgd', loss='categorical_crossentropy', metrics=['accuracy']) \n",
    "history = model.fit(x_train,\n",
    "                    y_train,\n",
    "                    epochs=10,\n",
    "                    batch_size=64,\n",
    "                    callbacks = my_callbacks,\n",
    "                    validation_split=0.2, verbose = 2)"
   ]
  },
  {
   "cell_type": "code",
   "execution_count": null,
   "metadata": {},
   "outputs": [],
   "source": []
  }
 ],
 "metadata": {
  "kernelspec": {
   "display_name": "Python 3",
   "language": "python",
   "name": "python3"
  },
  "language_info": {
   "codemirror_mode": {
    "name": "ipython",
    "version": 3
   },
   "file_extension": ".py",
   "mimetype": "text/x-python",
   "name": "python",
   "nbconvert_exporter": "python",
   "pygments_lexer": "ipython3",
   "version": "3.8.8"
  }
 },
 "nbformat": 4,
 "nbformat_minor": 1
}
