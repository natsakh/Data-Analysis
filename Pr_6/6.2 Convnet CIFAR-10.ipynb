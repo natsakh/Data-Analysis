{
 "cells": [
  {
   "cell_type": "code",
   "execution_count": 1,
   "metadata": {},
   "outputs": [],
   "source": [
    "import tensorflow as tf\n",
    "from tensorflow import keras\n",
    "from tensorflow.keras import layers\n",
    "from tensorflow.keras.datasets import cifar10"
   ]
  },
  {
   "cell_type": "code",
   "execution_count": 2,
   "metadata": {},
   "outputs": [],
   "source": [
    "from keras.datasets import cifar10\n",
    "(train_features, train_labels), (test_features, test_labels) = cifar10.load_data()"
   ]
  },
  {
   "cell_type": "code",
   "execution_count": 3,
   "metadata": {},
   "outputs": [
    {
     "name": "stdout",
     "output_type": "stream",
     "text": [
      "(50000, 32, 32, 3)\n",
      "(10000, 32, 32, 3)\n"
     ]
    }
   ],
   "source": [
    "print(train_features.shape)\n",
    "print(test_features.shape)"
   ]
  },
  {
   "cell_type": "code",
   "execution_count": 4,
   "metadata": {},
   "outputs": [],
   "source": [
    "train_features = train_features.astype('float32')/255\n",
    "test_features = test_features.astype('float32')/255"
   ]
  },
  {
   "cell_type": "code",
   "execution_count": 5,
   "metadata": {},
   "outputs": [],
   "source": [
    "num_classes = 10\n",
    "train_labels = keras.utils.to_categorical(train_labels, num_classes)\n",
    "test_labels = keras.utils.to_categorical(test_labels, num_classes)"
   ]
  },
  {
   "cell_type": "markdown",
   "metadata": {},
   "source": [
    "## Build the model"
   ]
  },
  {
   "cell_type": "code",
   "execution_count": 6,
   "metadata": {},
   "outputs": [
    {
     "name": "stdout",
     "output_type": "stream",
     "text": [
      "Model: \"sequential\"\n",
      "_________________________________________________________________\n",
      "Layer (type)                 Output Shape              Param #   \n",
      "=================================================================\n",
      "conv2d (Conv2D)              (None, 32, 32, 16)        448       \n",
      "_________________________________________________________________\n",
      "max_pooling2d (MaxPooling2D) (None, 16, 16, 16)        0         \n",
      "_________________________________________________________________\n",
      "dropout (Dropout)            (None, 16, 16, 16)        0         \n",
      "_________________________________________________________________\n",
      "conv2d_1 (Conv2D)            (None, 16, 16, 32)        4640      \n",
      "_________________________________________________________________\n",
      "leaky_re_lu (LeakyReLU)      (None, 16, 16, 32)        0         \n",
      "_________________________________________________________________\n",
      "max_pooling2d_1 (MaxPooling2 (None, 8, 8, 32)          0         \n",
      "_________________________________________________________________\n",
      "dropout_1 (Dropout)          (None, 8, 8, 32)          0         \n",
      "_________________________________________________________________\n",
      "conv2d_2 (Conv2D)            (None, 8, 8, 64)          18496     \n",
      "_________________________________________________________________\n",
      "leaky_re_lu_1 (LeakyReLU)    (None, 8, 8, 64)          0         \n",
      "_________________________________________________________________\n",
      "max_pooling2d_2 (MaxPooling2 (None, 4, 4, 64)          0         \n",
      "_________________________________________________________________\n",
      "dropout_2 (Dropout)          (None, 4, 4, 64)          0         \n",
      "_________________________________________________________________\n",
      "flatten (Flatten)            (None, 1024)              0         \n",
      "_________________________________________________________________\n",
      "dense (Dense)                (None, 512)               524800    \n",
      "_________________________________________________________________\n",
      "dropout_3 (Dropout)          (None, 512)               0         \n",
      "_________________________________________________________________\n",
      "leaky_re_lu_2 (LeakyReLU)    (None, 512)               0         \n",
      "_________________________________________________________________\n",
      "dense_1 (Dense)              (None, 10)                5130      \n",
      "=================================================================\n",
      "Total params: 553,514\n",
      "Trainable params: 553,514\n",
      "Non-trainable params: 0\n",
      "_________________________________________________________________\n"
     ]
    }
   ],
   "source": [
    "dropout = 0.3\n",
    "alpha = 0.02\n",
    "\n",
    "advanced_model = keras.Sequential()\n",
    "\n",
    "advanced_model.add(layers.Conv2D(filters=16, kernel_size=(3, 3), padding=\"same\", input_shape=(train_features.shape[1:])))\n",
    "\n",
    "advanced_model.add(layers.MaxPooling2D(pool_size=(2, 2), padding='same'))\n",
    "advanced_model.add(layers.Dropout(dropout))\n",
    "\n",
    "advanced_model.add(layers.Conv2D(filters=32, kernel_size=(3, 3), padding=\"same\"))\n",
    "advanced_model.add(layers.LeakyReLU(alpha=alpha))\n",
    "advanced_model.add(layers.MaxPooling2D(pool_size=(2, 2), padding='same'))\n",
    "advanced_model.add(layers.Dropout(dropout))\n",
    "\n",
    "advanced_model.add(layers.Conv2D(filters=64, kernel_size=(3, 3), padding=\"same\"))\n",
    "advanced_model.add(layers.LeakyReLU(alpha=alpha))\n",
    "advanced_model.add(layers.MaxPooling2D(pool_size=(2, 2), padding='same'))\n",
    "advanced_model.add(layers.Dropout(dropout))\n",
    "\n",
    "advanced_model.add(layers.Flatten())\n",
    "\n",
    "advanced_model.add(layers.Dense(512))\n",
    "advanced_model.add(layers.Dropout(dropout))\n",
    "advanced_model.add(layers.LeakyReLU(alpha=alpha))\n",
    "\n",
    "advanced_model.add(layers.Dense(10, activation=\"softmax\"))\n",
    "\n",
    "advanced_model.compile(optimizer='adam', loss='categorical_crossentropy', metrics=['accuracy'])\n",
    "\n",
    "advanced_model.summary()\n"
   ]
  },
  {
   "cell_type": "code",
   "execution_count": 7,
   "metadata": {},
   "outputs": [
    {
     "name": "stdout",
     "output_type": "stream",
     "text": [
      "Epoch 1/50\n",
      "313/313 [==============================] - 17s 53ms/step - loss: 1.7764 - accuracy: 0.3539 - val_loss: 1.4637 - val_accuracy: 0.4815\n",
      "Epoch 2/50\n",
      "313/313 [==============================] - 19s 62ms/step - loss: 1.4244 - accuracy: 0.4834 - val_loss: 1.2785 - val_accuracy: 0.5483\n",
      "Epoch 3/50\n",
      "313/313 [==============================] - 19s 61ms/step - loss: 1.2818 - accuracy: 0.5405 - val_loss: 1.1410 - val_accuracy: 0.6072\n",
      "Epoch 4/50\n",
      "313/313 [==============================] - 19s 61ms/step - loss: 1.1968 - accuracy: 0.5740 - val_loss: 1.0701 - val_accuracy: 0.6210\n",
      "Epoch 5/50\n",
      "313/313 [==============================] - 19s 62ms/step - loss: 1.1348 - accuracy: 0.5961 - val_loss: 1.0143 - val_accuracy: 0.6479\n",
      "Epoch 6/50\n",
      "313/313 [==============================] - 19s 61ms/step - loss: 1.0726 - accuracy: 0.6193 - val_loss: 1.0304 - val_accuracy: 0.6362\n",
      "Epoch 7/50\n",
      "313/313 [==============================] - 19s 61ms/step - loss: 1.0297 - accuracy: 0.6356 - val_loss: 0.9281 - val_accuracy: 0.6804\n",
      "Epoch 8/50\n",
      "313/313 [==============================] - 19s 61ms/step - loss: 0.9886 - accuracy: 0.6472 - val_loss: 0.8823 - val_accuracy: 0.6927\n",
      "Epoch 9/50\n",
      "313/313 [==============================] - 19s 62ms/step - loss: 0.9532 - accuracy: 0.6642 - val_loss: 0.9453 - val_accuracy: 0.6667\n",
      "Epoch 10/50\n",
      "313/313 [==============================] - 19s 62ms/step - loss: 0.9264 - accuracy: 0.6720 - val_loss: 0.8525 - val_accuracy: 0.6996\n",
      "Epoch 11/50\n",
      "313/313 [==============================] - 19s 61ms/step - loss: 0.8910 - accuracy: 0.6852 - val_loss: 0.8532 - val_accuracy: 0.7014\n",
      "Epoch 12/50\n",
      "313/313 [==============================] - 19s 62ms/step - loss: 0.8727 - accuracy: 0.6934 - val_loss: 0.8465 - val_accuracy: 0.7053\n",
      "Epoch 13/50\n",
      "313/313 [==============================] - 19s 61ms/step - loss: 0.8457 - accuracy: 0.7010 - val_loss: 0.7906 - val_accuracy: 0.7263\n",
      "Epoch 14/50\n",
      "313/313 [==============================] - 19s 61ms/step - loss: 0.8197 - accuracy: 0.7112 - val_loss: 0.7677 - val_accuracy: 0.7330\n",
      "Epoch 15/50\n",
      "313/313 [==============================] - 19s 62ms/step - loss: 0.8014 - accuracy: 0.7154 - val_loss: 0.7670 - val_accuracy: 0.7350\n",
      "Epoch 16/50\n",
      "313/313 [==============================] - 19s 62ms/step - loss: 0.7910 - accuracy: 0.7213 - val_loss: 0.7695 - val_accuracy: 0.7340\n",
      "Epoch 17/50\n",
      "313/313 [==============================] - 19s 62ms/step - loss: 0.7738 - accuracy: 0.7259 - val_loss: 0.7670 - val_accuracy: 0.7367\n",
      "Epoch 18/50\n",
      "313/313 [==============================] - 19s 62ms/step - loss: 0.7615 - accuracy: 0.7283 - val_loss: 0.7583 - val_accuracy: 0.7383\n",
      "Epoch 19/50\n",
      "313/313 [==============================] - 19s 62ms/step - loss: 0.7458 - accuracy: 0.7365 - val_loss: 0.7438 - val_accuracy: 0.7404\n",
      "Epoch 20/50\n",
      "313/313 [==============================] - 19s 62ms/step - loss: 0.7256 - accuracy: 0.7433 - val_loss: 0.7147 - val_accuracy: 0.7506\n",
      "Epoch 21/50\n",
      "313/313 [==============================] - 19s 62ms/step - loss: 0.7123 - accuracy: 0.7472 - val_loss: 0.7161 - val_accuracy: 0.7520\n",
      "Epoch 22/50\n",
      "313/313 [==============================] - 19s 62ms/step - loss: 0.6994 - accuracy: 0.7541 - val_loss: 0.7052 - val_accuracy: 0.7535\n",
      "Epoch 23/50\n",
      "313/313 [==============================] - 19s 62ms/step - loss: 0.6924 - accuracy: 0.7546 - val_loss: 0.7255 - val_accuracy: 0.7490\n",
      "Epoch 24/50\n",
      "313/313 [==============================] - 19s 62ms/step - loss: 0.6878 - accuracy: 0.7564 - val_loss: 0.7027 - val_accuracy: 0.7573\n",
      "Epoch 25/50\n",
      "313/313 [==============================] - 19s 62ms/step - loss: 0.6654 - accuracy: 0.7637 - val_loss: 0.7136 - val_accuracy: 0.7542\n",
      "Epoch 26/50\n",
      "313/313 [==============================] - 19s 62ms/step - loss: 0.6544 - accuracy: 0.7671 - val_loss: 0.7238 - val_accuracy: 0.7502\n",
      "Epoch 27/50\n",
      "313/313 [==============================] - 19s 62ms/step - loss: 0.6487 - accuracy: 0.7697 - val_loss: 0.7447 - val_accuracy: 0.7467\n",
      "Epoch 28/50\n",
      "313/313 [==============================] - 19s 62ms/step - loss: 0.6376 - accuracy: 0.7732 - val_loss: 0.7038 - val_accuracy: 0.7562\n",
      "Epoch 29/50\n",
      "313/313 [==============================] - 19s 62ms/step - loss: 0.6247 - accuracy: 0.7773 - val_loss: 0.7000 - val_accuracy: 0.7585\n",
      "Epoch 30/50\n",
      "313/313 [==============================] - 19s 62ms/step - loss: 0.6244 - accuracy: 0.7755 - val_loss: 0.7104 - val_accuracy: 0.7562\n",
      "Epoch 31/50\n",
      "313/313 [==============================] - 19s 62ms/step - loss: 0.6077 - accuracy: 0.7824 - val_loss: 0.6982 - val_accuracy: 0.7615\n",
      "Epoch 32/50\n",
      "313/313 [==============================] - 19s 62ms/step - loss: 0.6066 - accuracy: 0.7842 - val_loss: 0.7162 - val_accuracy: 0.7556\n",
      "Epoch 33/50\n",
      "313/313 [==============================] - 19s 62ms/step - loss: 0.6026 - accuracy: 0.7868 - val_loss: 0.6893 - val_accuracy: 0.7592\n",
      "Epoch 34/50\n",
      "313/313 [==============================] - 20s 65ms/step - loss: 0.6051 - accuracy: 0.7848 - val_loss: 0.7016 - val_accuracy: 0.7606\n",
      "Epoch 35/50\n",
      "313/313 [==============================] - 19s 62ms/step - loss: 0.6025 - accuracy: 0.7824 - val_loss: 0.7097 - val_accuracy: 0.7582\n",
      "Epoch 36/50\n",
      "313/313 [==============================] - 20s 62ms/step - loss: 0.5842 - accuracy: 0.7935 - val_loss: 0.7007 - val_accuracy: 0.7641\n",
      "Epoch 37/50\n",
      "313/313 [==============================] - 19s 62ms/step - loss: 0.5840 - accuracy: 0.7912 - val_loss: 0.6849 - val_accuracy: 0.7687\n",
      "Epoch 38/50\n",
      "313/313 [==============================] - 20s 62ms/step - loss: 0.5732 - accuracy: 0.7962 - val_loss: 0.6918 - val_accuracy: 0.7708\n",
      "Epoch 39/50\n",
      "313/313 [==============================] - 19s 62ms/step - loss: 0.5667 - accuracy: 0.7985 - val_loss: 0.7006 - val_accuracy: 0.7631\n",
      "Epoch 40/50\n",
      "313/313 [==============================] - 20s 63ms/step - loss: 0.5574 - accuracy: 0.8022 - val_loss: 0.7042 - val_accuracy: 0.7646\n",
      "Epoch 41/50\n",
      "313/313 [==============================] - 19s 62ms/step - loss: 0.5587 - accuracy: 0.8017 - val_loss: 0.6888 - val_accuracy: 0.7659\n",
      "Epoch 42/50\n",
      "313/313 [==============================] - 19s 62ms/step - loss: 0.5517 - accuracy: 0.8039 - val_loss: 0.7109 - val_accuracy: 0.7614\n",
      "Epoch 43/50\n",
      "313/313 [==============================] - 19s 62ms/step - loss: 0.5484 - accuracy: 0.8059 - val_loss: 0.6951 - val_accuracy: 0.7630\n",
      "Epoch 44/50\n",
      "313/313 [==============================] - 19s 62ms/step - loss: 0.5426 - accuracy: 0.8057 - val_loss: 0.6879 - val_accuracy: 0.7681\n",
      "Epoch 45/50\n",
      "313/313 [==============================] - 19s 62ms/step - loss: 0.5493 - accuracy: 0.8042 - val_loss: 0.7041 - val_accuracy: 0.7627\n",
      "Epoch 46/50\n",
      "313/313 [==============================] - 19s 62ms/step - loss: 0.5340 - accuracy: 0.8079 - val_loss: 0.7151 - val_accuracy: 0.7644\n",
      "Epoch 47/50\n",
      "313/313 [==============================] - 19s 62ms/step - loss: 0.5268 - accuracy: 0.8136 - val_loss: 0.7181 - val_accuracy: 0.7632\n",
      "Epoch 48/50\n",
      "313/313 [==============================] - 20s 63ms/step - loss: 0.5304 - accuracy: 0.8098 - val_loss: 0.7021 - val_accuracy: 0.7644\n",
      "Epoch 49/50\n",
      "313/313 [==============================] - 20s 62ms/step - loss: 0.5331 - accuracy: 0.8092 - val_loss: 0.6988 - val_accuracy: 0.7683\n",
      "Epoch 50/50\n",
      "313/313 [==============================] - 20s 65ms/step - loss: 0.5181 - accuracy: 0.8159 - val_loss: 0.7175 - val_accuracy: 0.7644\n"
     ]
    },
    {
     "data": {
      "text/plain": [
       "<tensorflow.python.keras.callbacks.History at 0x187e7d68b80>"
      ]
     },
     "execution_count": 7,
     "metadata": {},
     "output_type": "execute_result"
    }
   ],
   "source": [
    "advanced_model.fit(train_features, train_labels, validation_split=0.2, epochs=50, batch_size=128, verbose=1)"
   ]
  },
  {
   "cell_type": "code",
   "execution_count": null,
   "metadata": {},
   "outputs": [],
   "source": []
  }
 ],
 "metadata": {
  "kernelspec": {
   "display_name": "Python 3",
   "language": "python",
   "name": "python3"
  },
  "language_info": {
   "codemirror_mode": {
    "name": "ipython",
    "version": 3
   },
   "file_extension": ".py",
   "mimetype": "text/x-python",
   "name": "python",
   "nbconvert_exporter": "python",
   "pygments_lexer": "ipython3",
   "version": "3.8.8"
  }
 },
 "nbformat": 4,
 "nbformat_minor": 2
}
