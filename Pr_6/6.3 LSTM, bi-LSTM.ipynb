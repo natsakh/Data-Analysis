{
 "cells": [
  {
   "cell_type": "code",
   "execution_count": 16,
   "metadata": {},
   "outputs": [],
   "source": [
    "import tensorflow as tf\n",
    "from tensorflow import keras\n",
    "from tensorflow.keras import layers\n",
    "import numpy as np\n"
   ]
  },
  {
   "cell_type": "code",
   "execution_count": 17,
   "metadata": {},
   "outputs": [],
   "source": [
    "T = 8 # time steps number\n",
    "D = 2 # number of features(x, y)\n",
    "M = 3 # LSTM units"
   ]
  },
  {
   "cell_type": "code",
   "execution_count": 18,
   "metadata": {},
   "outputs": [],
   "source": [
    "x = np.random.randn(1, T, D)"
   ]
  },
  {
   "cell_type": "markdown",
   "metadata": {},
   "source": [
    "## LSTM"
   ]
  },
  {
   "cell_type": "code",
   "execution_count": 19,
   "metadata": {},
   "outputs": [],
   "source": [
    "inputs = keras.Input(shape=(T, D))\n",
    "outputs = layers.LSTM(M, return_state = False, return_sequences = False)(inputs)\n",
    "model = keras.Model(inputs=inputs, outputs=outputs)"
   ]
  },
  {
   "cell_type": "code",
   "execution_count": 20,
   "metadata": {},
   "outputs": [
    {
     "data": {
      "text/plain": [
       "array([[0.06841979, 0.04265887, 0.06859066]], dtype=float32)"
      ]
     },
     "execution_count": 20,
     "metadata": {},
     "output_type": "execute_result"
    }
   ],
   "source": [
    "model.predict(x) # last hidden state"
   ]
  },
  {
   "cell_type": "code",
   "execution_count": 21,
   "metadata": {},
   "outputs": [],
   "source": [
    "outputs = layers.LSTM(M, return_state = False, return_sequences = True)(inputs)\n",
    "model = keras.Model(inputs=inputs, outputs=outputs)"
   ]
  },
  {
   "cell_type": "code",
   "execution_count": 22,
   "metadata": {},
   "outputs": [
    {
     "data": {
      "text/plain": [
       "array([[[ 0.13034558,  0.00457507, -0.00544272],\n",
       "        [ 0.02890224,  0.0283402 ,  0.08653542],\n",
       "        [-0.0512187 ,  0.01794821,  0.02619833],\n",
       "        [-0.00624662,  0.00849469, -0.02631349],\n",
       "        [ 0.14113317,  0.03136048,  0.05204686],\n",
       "        [ 0.19158371,  0.01618731, -0.1102612 ],\n",
       "        [ 0.00785958,  0.00306422, -0.07641591],\n",
       "        [ 0.05773866,  0.01412194, -0.14621845]]], dtype=float32)"
      ]
     },
     "execution_count": 22,
     "metadata": {},
     "output_type": "execute_result"
    }
   ],
   "source": [
    "model.predict(x) # hidden state for each time step"
   ]
  },
  {
   "cell_type": "code",
   "execution_count": 23,
   "metadata": {},
   "outputs": [],
   "source": [
    "outputs = layers.LSTM(M, return_state = True, return_sequences = False)(inputs)\n",
    "model = keras.Model(inputs=inputs, outputs=outputs)"
   ]
  },
  {
   "cell_type": "code",
   "execution_count": 24,
   "metadata": {},
   "outputs": [
    {
     "data": {
      "text/plain": [
       "[array([[ 0.06961417, -0.17860271,  0.00923122]], dtype=float32),\n",
       " array([[ 0.06961417, -0.17860271,  0.00923122]], dtype=float32),\n",
       " array([[ 0.12502725, -0.34291422,  0.01860526]], dtype=float32)]"
      ]
     },
     "execution_count": 24,
     "metadata": {},
     "output_type": "execute_result"
    }
   ],
   "source": [
    "model.predict(x) # output, hidden state and cell state (output = hidden state) for last time step"
   ]
  },
  {
   "cell_type": "code",
   "execution_count": 25,
   "metadata": {},
   "outputs": [],
   "source": [
    "outputs = layers.LSTM(M, return_state = True, return_sequences = True)(inputs)\n",
    "model = keras.Model(inputs=inputs, outputs=outputs)"
   ]
  },
  {
   "cell_type": "code",
   "execution_count": 26,
   "metadata": {},
   "outputs": [
    {
     "data": {
      "text/plain": [
       "[array([[[-0.00823668,  0.14966483, -0.08951403],\n",
       "         [-0.03480426, -0.0137319 ,  0.08857161],\n",
       "         [ 0.02519928, -0.07480928,  0.19494462],\n",
       "         [ 0.01438387, -0.01710937,  0.07214712],\n",
       "         [-0.00756933,  0.11693407, -0.05415456],\n",
       "         [ 0.01213067,  0.23120733, -0.19735646],\n",
       "         [ 0.24803387, -0.06564764,  0.04705572],\n",
       "         [ 0.06095553, -0.09667318,  0.00662024]]], dtype=float32),\n",
       " array([[ 0.06095553, -0.09667318,  0.00662024]], dtype=float32),\n",
       " array([[ 0.16657215, -0.16547987,  0.01580743]], dtype=float32)]"
      ]
     },
     "execution_count": 26,
     "metadata": {},
     "output_type": "execute_result"
    }
   ],
   "source": [
    "model.predict(x) # returns the hidden state for each input time step, then separately, the hidden state output for \n",
    "                #last time step and cell state for last time step"
   ]
  },
  {
   "cell_type": "markdown",
   "metadata": {},
   "source": [
    "## Bidirectional LSTM"
   ]
  },
  {
   "cell_type": "code",
   "execution_count": 27,
   "metadata": {},
   "outputs": [],
   "source": [
    "outputs = layers.Bidirectional(layers.LSTM(M, return_state = False, return_sequences = False))(inputs)\n",
    "model = keras.Model(inputs=inputs, outputs=outputs)"
   ]
  },
  {
   "cell_type": "code",
   "execution_count": 28,
   "metadata": {},
   "outputs": [
    {
     "data": {
      "text/plain": [
       "array([[-0.10552286,  0.07142535, -0.08294625,  0.01777819, -0.0391664 ,\n",
       "        -0.00660032]], dtype=float32)"
      ]
     },
     "execution_count": 28,
     "metadata": {},
     "output_type": "execute_result"
    }
   ],
   "source": [
    "model.predict(x) # 2xh"
   ]
  },
  {
   "cell_type": "markdown",
   "metadata": {},
   "source": [
    "## Stacked LSTM"
   ]
  },
  {
   "cell_type": "code",
   "execution_count": 29,
   "metadata": {},
   "outputs": [],
   "source": [
    "outputs_layer_1 = layers.LSTM(M, return_state = False, return_sequences = True)(inputs)\n",
    "outputs_layer_2 = layers.LSTM(M, return_state = False, return_sequences = False)(outputs_layer_1)\n",
    "model = keras.Model(inputs=inputs, outputs=outputs_layer_2)"
   ]
  },
  {
   "cell_type": "code",
   "execution_count": 30,
   "metadata": {},
   "outputs": [
    {
     "data": {
      "text/plain": [
       "array([[ 0.02571977, -0.02697229,  0.00339985]], dtype=float32)"
      ]
     },
     "execution_count": 30,
     "metadata": {},
     "output_type": "execute_result"
    }
   ],
   "source": [
    "model.predict(x)"
   ]
  },
  {
   "cell_type": "code",
   "execution_count": null,
   "metadata": {},
   "outputs": [],
   "source": []
  }
 ],
 "metadata": {
  "kernelspec": {
   "display_name": "Python 3",
   "language": "python",
   "name": "python3"
  },
  "language_info": {
   "codemirror_mode": {
    "name": "ipython",
    "version": 3
   },
   "file_extension": ".py",
   "mimetype": "text/x-python",
   "name": "python",
   "nbconvert_exporter": "python",
   "pygments_lexer": "ipython3",
   "version": "3.8.8"
  }
 },
 "nbformat": 4,
 "nbformat_minor": 2
}
