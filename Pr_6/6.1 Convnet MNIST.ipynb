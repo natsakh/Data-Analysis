{
 "cells": [
  {
   "cell_type": "code",
   "execution_count": 1,
   "metadata": {},
   "outputs": [],
   "source": [
    "import tensorflow as tf\n",
    "from tensorflow import keras\n",
    "from tensorflow.keras import layers\n",
    "from tensorflow.keras.datasets import mnist\n"
   ]
  },
  {
   "cell_type": "code",
   "execution_count": 2,
   "metadata": {},
   "outputs": [
    {
     "name": "stdout",
     "output_type": "stream",
     "text": [
      "60000 train samples\n",
      "10000 test samples\n",
      "image shape (28, 28)\n"
     ]
    }
   ],
   "source": [
    "num_classes = 10\n",
    "\n",
    "(x_train, y_train), (x_test, y_test) = mnist.load_data()\n",
    "print(x_train.shape[0], 'train samples')\n",
    "print(x_test.shape[0], 'test samples')\n",
    "print('image shape', x_train[0].shape)"
   ]
  },
  {
   "cell_type": "code",
   "execution_count": 3,
   "metadata": {},
   "outputs": [],
   "source": [
    "batch_size = 128\n",
    "num_classes = 10\n",
    "epochs = 12\n",
    "\n",
    "# input image dimensions\n",
    "img_rows, img_cols = 28, 28\n",
    "input_dim = img_rows * img_cols\n",
    "\n",
    "x_train = x_train.reshape(x_train.shape[0], img_rows, img_cols, 1)\n",
    "x_test = x_test.reshape(x_test.shape[0], img_rows, img_cols, 1)\n",
    "input_shape = (img_rows, img_cols, 1)\n",
    "\n",
    "x_train = x_train.astype('float32')\n",
    "x_test = x_test.astype('float32')\n",
    "x_train /= 255\n",
    "x_test /= 255\n",
    "\n",
    "# convert class vectors to binary class matrices\n",
    "y_train = keras.utils.to_categorical(y_train, num_classes)\n",
    "y_test = keras.utils.to_categorical(y_test, num_classes)"
   ]
  },
  {
   "cell_type": "code",
   "execution_count": 4,
   "metadata": {},
   "outputs": [],
   "source": [
    "model =  keras.Sequential()\n",
    "model.add(layers.Conv2D(32, kernel_size=(3, 3), activation='relu', input_shape=input_shape))\n",
    "model.add(layers.Conv2D(64, (3, 3), activation='relu'))\n",
    "model.add(layers.MaxPooling2D(pool_size=(2, 2)))\n",
    "model.add(layers.Dropout(0.25))\n",
    "model.add(layers.Flatten())\n",
    "model.add(layers.Dense(128, activation='relu'))\n",
    "model.add(layers.Dropout(0.5))\n",
    "model.add(layers.Dense(num_classes, activation='softmax'))"
   ]
  },
  {
   "cell_type": "code",
   "execution_count": 5,
   "metadata": {},
   "outputs": [
    {
     "name": "stdout",
     "output_type": "stream",
     "text": [
      "Model: \"sequential\"\n",
      "_________________________________________________________________\n",
      "Layer (type)                 Output Shape              Param #   \n",
      "=================================================================\n",
      "conv2d (Conv2D)              (None, 26, 26, 32)        320       \n",
      "_________________________________________________________________\n",
      "conv2d_1 (Conv2D)            (None, 24, 24, 64)        18496     \n",
      "_________________________________________________________________\n",
      "max_pooling2d (MaxPooling2D) (None, 12, 12, 64)        0         \n",
      "_________________________________________________________________\n",
      "dropout (Dropout)            (None, 12, 12, 64)        0         \n",
      "_________________________________________________________________\n",
      "flatten (Flatten)            (None, 9216)              0         \n",
      "_________________________________________________________________\n",
      "dense (Dense)                (None, 128)               1179776   \n",
      "_________________________________________________________________\n",
      "dropout_1 (Dropout)          (None, 128)               0         \n",
      "_________________________________________________________________\n",
      "dense_1 (Dense)              (None, 10)                1290      \n",
      "=================================================================\n",
      "Total params: 1,199,882\n",
      "Trainable params: 1,199,882\n",
      "Non-trainable params: 0\n",
      "_________________________________________________________________\n"
     ]
    }
   ],
   "source": [
    "model.compile(loss='categorical_crossentropy',\n",
    "              optimizer='adam',\n",
    "              metrics=['accuracy'])\n",
    "\n",
    "model.summary()"
   ]
  },
  {
   "cell_type": "code",
   "execution_count": 6,
   "metadata": {},
   "outputs": [
    {
     "name": "stdout",
     "output_type": "stream",
     "text": [
      "Epoch 1/12\n",
      "469/469 [==============================] - 37s 79ms/step - loss: 0.2432 - accuracy: 0.9271 - val_loss: 0.0561 - val_accuracy: 0.9820\n",
      "Epoch 2/12\n",
      "469/469 [==============================] - 44s 94ms/step - loss: 0.0848 - accuracy: 0.9751 - val_loss: 0.0368 - val_accuracy: 0.9874\n",
      "Epoch 3/12\n",
      "469/469 [==============================] - 44s 93ms/step - loss: 0.0660 - accuracy: 0.9800 - val_loss: 0.0342 - val_accuracy: 0.9888\n",
      "Epoch 4/12\n",
      "469/469 [==============================] - 43s 93ms/step - loss: 0.0522 - accuracy: 0.9841 - val_loss: 0.0320 - val_accuracy: 0.9889\n",
      "Epoch 5/12\n",
      "469/469 [==============================] - 43s 92ms/step - loss: 0.0454 - accuracy: 0.9856 - val_loss: 0.0312 - val_accuracy: 0.9897\n",
      "Epoch 6/12\n",
      "469/469 [==============================] - 42s 90ms/step - loss: 0.0397 - accuracy: 0.9875 - val_loss: 0.0276 - val_accuracy: 0.9914\n",
      "Epoch 7/12\n",
      "469/469 [==============================] - 43s 92ms/step - loss: 0.0363 - accuracy: 0.9882 - val_loss: 0.0266 - val_accuracy: 0.9911\n",
      "Epoch 8/12\n",
      "469/469 [==============================] - 44s 93ms/step - loss: 0.0316 - accuracy: 0.9898 - val_loss: 0.0269 - val_accuracy: 0.9920\n",
      "Epoch 9/12\n",
      "469/469 [==============================] - 44s 94ms/step - loss: 0.0307 - accuracy: 0.9905 - val_loss: 0.0296 - val_accuracy: 0.9909\n",
      "Epoch 10/12\n",
      "469/469 [==============================] - 45s 96ms/step - loss: 0.0265 - accuracy: 0.9913 - val_loss: 0.0318 - val_accuracy: 0.9914\n",
      "Epoch 11/12\n",
      "469/469 [==============================] - 46s 97ms/step - loss: 0.0248 - accuracy: 0.9920 - val_loss: 0.0292 - val_accuracy: 0.9916\n",
      "Epoch 12/12\n",
      "469/469 [==============================] - 47s 101ms/step - loss: 0.0213 - accuracy: 0.9933 - val_loss: 0.0346 - val_accuracy: 0.9915\n"
     ]
    },
    {
     "data": {
      "text/plain": [
       "<tensorflow.python.keras.callbacks.History at 0x253e1b91670>"
      ]
     },
     "execution_count": 6,
     "metadata": {},
     "output_type": "execute_result"
    }
   ],
   "source": [
    "model.fit(x_train, y_train,\n",
    "          batch_size=batch_size,\n",
    "          epochs=epochs,\n",
    "          verbose=1,\n",
    "          validation_data=(x_test, y_test))"
   ]
  },
  {
   "cell_type": "code",
   "execution_count": 7,
   "metadata": {},
   "outputs": [
    {
     "name": "stdout",
     "output_type": "stream",
     "text": [
      "Test loss: 0.03457019105553627\n",
      "Test accuracy: 0.9915000200271606\n"
     ]
    }
   ],
   "source": [
    "score = model.evaluate(x_test, y_test, verbose=0)\n",
    "print('Test loss:', score[0])\n",
    "print('Test accuracy:', score[1])"
   ]
  },
  {
   "cell_type": "code",
   "execution_count": null,
   "metadata": {},
   "outputs": [],
   "source": []
  }
 ],
 "metadata": {
  "kernelspec": {
   "display_name": "Python 3",
   "language": "python",
   "name": "python3"
  },
  "language_info": {
   "codemirror_mode": {
    "name": "ipython",
    "version": 3
   },
   "file_extension": ".py",
   "mimetype": "text/x-python",
   "name": "python",
   "nbconvert_exporter": "python",
   "pygments_lexer": "ipython3",
   "version": "3.8.8"
  }
 },
 "nbformat": 4,
 "nbformat_minor": 2
}
