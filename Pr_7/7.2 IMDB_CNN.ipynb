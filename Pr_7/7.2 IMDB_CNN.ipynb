{
 "cells": [
  {
   "cell_type": "markdown",
   "metadata": {},
   "source": [
    "# IMBD CNN"
   ]
  },
  {
   "cell_type": "code",
   "execution_count": 1,
   "metadata": {},
   "outputs": [],
   "source": [
    "import tensorflow as tf\n",
    "from tensorflow import keras\n",
    "from tensorflow.keras import layers\n",
    "from tensorflow.keras.datasets import imdb"
   ]
  },
  {
   "cell_type": "code",
   "execution_count": null,
   "metadata": {},
   "outputs": [],
   "source": [
    "max_features = 10000\n",
    "(train_data, train_labels), (test_data, test_labels) = imdb.load_data(num_words=max_features) # consider the top 10000 words"
   ]
  },
  {
   "cell_type": "code",
   "execution_count": 3,
   "metadata": {},
   "outputs": [
    {
     "name": "stdout",
     "output_type": "stream",
     "text": [
      "data  [1, 14, 22, 16, 43, 530, 973, 1622, 1385, 65]\n",
      "labels  1\n"
     ]
    }
   ],
   "source": [
    "print('data ', train_data[0][:10])\n",
    "print('labels ', train_labels[0])"
   ]
  },
  {
   "cell_type": "code",
   "execution_count": 4,
   "metadata": {},
   "outputs": [
    {
     "name": "stdout",
     "output_type": "stream",
     "text": [
      "Train data  25000\n",
      "Test data  25000\n"
     ]
    }
   ],
   "source": [
    "print('Train data ', len(train_data))\n",
    "print('Test data ', len(test_data))"
   ]
  },
  {
   "cell_type": "code",
   "execution_count": 5,
   "metadata": {},
   "outputs": [],
   "source": [
    "max_seq_len = 80 # Only consider the first 200 words of each movie review"
   ]
  },
  {
   "cell_type": "code",
   "execution_count": 6,
   "metadata": {},
   "outputs": [],
   "source": [
    "# preprocess data \n",
    "# this will truncate sequences longer than max_seq_len words and zero-pad sequences shorter than max_seq_len words\n",
    "x_train = keras.preprocessing.sequence.pad_sequences(train_data, maxlen=max_seq_len)\n",
    "x_test = keras.preprocessing.sequence.pad_sequences(test_data, maxlen=max_seq_len)"
   ]
  },
  {
   "cell_type": "markdown",
   "metadata": {},
   "source": [
    "# Conv Model"
   ]
  },
  {
   "cell_type": "code",
   "execution_count": 7,
   "metadata": {},
   "outputs": [],
   "source": [
    "emb_dim = 128\n",
    "\n",
    "model = keras.Sequential()\n",
    "model.add(layers.Embedding(max_features, emb_dim))\n",
    "\n",
    "model.add(layers.Conv1D(64, 3, activation = 'relu'))\n",
    "model.add(layers.GlobalMaxPooling1D())\n",
    "\n",
    "model.add(layers.Dense(1, activation='sigmoid'))"
   ]
  },
  {
   "cell_type": "code",
   "execution_count": 8,
   "metadata": {},
   "outputs": [
    {
     "name": "stdout",
     "output_type": "stream",
     "text": [
      "Epoch 1/5\n",
      "157/157 [==============================] - 6s 34ms/step - loss: 0.5797 - accuracy: 0.7268 - val_loss: 0.4335 - val_accuracy: 0.8008\n",
      "Epoch 2/5\n",
      "157/157 [==============================] - 5s 35ms/step - loss: 0.3577 - accuracy: 0.8465 - val_loss: 0.3605 - val_accuracy: 0.8358\n",
      "Epoch 3/5\n",
      "157/157 [==============================] - 6s 35ms/step - loss: 0.2402 - accuracy: 0.9072 - val_loss: 0.3538 - val_accuracy: 0.8444\n",
      "Epoch 4/5\n",
      "157/157 [==============================] - 6s 35ms/step - loss: 0.1505 - accuracy: 0.9524 - val_loss: 0.3775 - val_accuracy: 0.8414\n",
      "Epoch 5/5\n",
      "157/157 [==============================] - 6s 35ms/step - loss: 0.0866 - accuracy: 0.9790 - val_loss: 0.4204 - val_accuracy: 0.8320\n"
     ]
    }
   ],
   "source": [
    "model.compile(optimizer=\"adam\",\n",
    "              loss=\"binary_crossentropy\",\n",
    "              metrics=[\"accuracy\"])\n",
    "\n",
    "history = model.fit(x_train,\n",
    "                    train_labels,\n",
    "                    epochs=5,\n",
    "                    batch_size=128,\n",
    "                    validation_split=0.2,\n",
    "                    shuffle = True,\n",
    "                    verbose = 1)"
   ]
  },
  {
   "cell_type": "code",
   "execution_count": 9,
   "metadata": {},
   "outputs": [
    {
     "name": "stdout",
     "output_type": "stream",
     "text": [
      "Model: \"sequential\"\n",
      "_________________________________________________________________\n",
      "Layer (type)                 Output Shape              Param #   \n",
      "=================================================================\n",
      "embedding (Embedding)        (None, None, 128)         1280000   \n",
      "_________________________________________________________________\n",
      "conv1d (Conv1D)              (None, None, 64)          24640     \n",
      "_________________________________________________________________\n",
      "global_max_pooling1d (Global (None, 64)                0         \n",
      "_________________________________________________________________\n",
      "dense (Dense)                (None, 1)                 65        \n",
      "=================================================================\n",
      "Total params: 1,304,705\n",
      "Trainable params: 1,304,705\n",
      "Non-trainable params: 0\n",
      "_________________________________________________________________\n",
      "None\n"
     ]
    }
   ],
   "source": [
    "print(model.summary())"
   ]
  },
  {
   "cell_type": "code",
   "execution_count": null,
   "metadata": {},
   "outputs": [],
   "source": []
  }
 ],
 "metadata": {
  "kernelspec": {
   "display_name": "Python 3",
   "language": "python",
   "name": "python3"
  },
  "language_info": {
   "codemirror_mode": {
    "name": "ipython",
    "version": 3
   },
   "file_extension": ".py",
   "mimetype": "text/x-python",
   "name": "python",
   "nbconvert_exporter": "python",
   "pygments_lexer": "ipython3",
   "version": "3.8.8"
  }
 },
 "nbformat": 4,
 "nbformat_minor": 1
}
