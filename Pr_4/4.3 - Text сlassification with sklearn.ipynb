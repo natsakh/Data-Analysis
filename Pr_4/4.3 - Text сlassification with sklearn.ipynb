{
 "cells": [
  {
   "cell_type": "markdown",
   "metadata": {},
   "source": [
    "# Text classification with sklearn\n",
    "\n",
    "https://scikit-learn.org/stable/tutorial/text_analytics/working_with_text_data.html"
   ]
  },
  {
   "cell_type": "code",
   "execution_count": 1,
   "metadata": {},
   "outputs": [],
   "source": [
    "from sklearn.feature_extraction.text import TfidfVectorizer, CountVectorizer\n",
    "from sklearn.datasets import fetch_20newsgroups\n",
    "from sklearn.linear_model import LogisticRegression\n",
    "from sklearn.metrics import classification_report,confusion_matrix"
   ]
  },
  {
   "cell_type": "code",
   "execution_count": 2,
   "metadata": {},
   "outputs": [],
   "source": [
    "all_train = fetch_20newsgroups(subset='train')"
   ]
  },
  {
   "cell_type": "code",
   "execution_count": 3,
   "metadata": {},
   "outputs": [
    {
     "data": {
      "text/plain": [
       "['alt.atheism',\n",
       " 'comp.graphics',\n",
       " 'comp.os.ms-windows.misc',\n",
       " 'comp.sys.ibm.pc.hardware',\n",
       " 'comp.sys.mac.hardware',\n",
       " 'comp.windows.x',\n",
       " 'misc.forsale',\n",
       " 'rec.autos',\n",
       " 'rec.motorcycles',\n",
       " 'rec.sport.baseball',\n",
       " 'rec.sport.hockey',\n",
       " 'sci.crypt',\n",
       " 'sci.electronics',\n",
       " 'sci.med',\n",
       " 'sci.space',\n",
       " 'soc.religion.christian',\n",
       " 'talk.politics.guns',\n",
       " 'talk.politics.mideast',\n",
       " 'talk.politics.misc',\n",
       " 'talk.religion.misc']"
      ]
     },
     "execution_count": 3,
     "metadata": {},
     "output_type": "execute_result"
    }
   ],
   "source": [
    "all_train.target_names"
   ]
  },
  {
   "cell_type": "code",
   "execution_count": 4,
   "metadata": {},
   "outputs": [
    {
     "name": "stdout",
     "output_type": "stream",
     "text": [
      "From: lerxst@wam.umd.edu (where's my thing)\n",
      "Subject: WHAT car is this!?\n",
      "Nntp-Posting-Host: rac3.wam.umd.edu\n",
      "Organization: University of Maryland, College Park\n",
      "Lines: 15\n",
      "\n",
      " I was wondering if anyone out there could enlighten me on this car I saw\n",
      "the other day. It was a 2-door sports car, looked to be from the late 60s/\n",
      "early 70s. It was called a Bricklin. The doors were really small. In addition,\n",
      "the front bumper was separate from the rest of the body. This is \n"
     ]
    }
   ],
   "source": [
    " print(\"\\n\".join(all_train.data[0].split(\"\\n\")[:10]))"
   ]
  },
  {
   "cell_type": "code",
   "execution_count": 5,
   "metadata": {},
   "outputs": [],
   "source": [
    "categories = ['rec.autos', 'rec.sport.baseball', 'sci.space']"
   ]
  },
  {
   "cell_type": "code",
   "execution_count": 6,
   "metadata": {},
   "outputs": [],
   "source": [
    "newsgroups_train = fetch_20newsgroups(subset='train', remove=('headers', 'footers', 'quotes'), categories=categories)\n",
    "newsgroups_test = fetch_20newsgroups(subset='test', remove=('headers', 'footers', 'quotes'), categories=categories)"
   ]
  },
  {
   "cell_type": "code",
   "execution_count": 7,
   "metadata": {},
   "outputs": [
    {
     "data": {
      "text/plain": [
       "\"\\nThe Centaur that is being built for T4 would be a better bet to integrate \\nonto the Proton as the T4/Centaur is designed for the Extremely Harsh \\nenvorinment of the T4 launch. It is also closer to 4 m in diameter. \\n\\nYou've hit on the real kicker, however. The Centaur is pressure stabilized. \\nIt cannot hold up its own weight without pressure in the tanks. Additionally, \\nthe pressure difference between the two tanks must be maintained to ~+/- 5 psi. \\nThat is rather tight to be rocking and rolling\""
      ]
     },
     "execution_count": 7,
     "metadata": {},
     "output_type": "execute_result"
    }
   ],
   "source": [
    "newsgroups_train.data[0][:500]"
   ]
  },
  {
   "cell_type": "markdown",
   "metadata": {},
   "source": [
    "## Vectorization with CountVectorizer"
   ]
  },
  {
   "cell_type": "code",
   "execution_count": 8,
   "metadata": {},
   "outputs": [
    {
     "name": "stdout",
     "output_type": "stream",
     "text": [
      "              precision    recall  f1-score   support\n",
      "\n",
      "           0       0.69      0.60      0.64       396\n",
      "           1       0.60      0.79      0.68       397\n",
      "           2       0.70      0.57      0.63       394\n",
      "\n",
      "    accuracy                           0.65      1187\n",
      "   macro avg       0.66      0.65      0.65      1187\n",
      "weighted avg       0.66      0.65      0.65      1187\n",
      "\n"
     ]
    }
   ],
   "source": [
    "# example 1\n",
    "\n",
    "n_features = 1000 \n",
    "count_vectorizer = CountVectorizer(max_df=0.95, min_df=0.05,\n",
    "                                max_features=n_features,\n",
    "                                stop_words='english')\n",
    "\n",
    "train_count_vectorizer = count_vectorizer.fit_transform(newsgroups_train.data)\n",
    "test_count_vectorizer = count_vectorizer.transform(newsgroups_test.data)\n",
    "\n",
    "clf = LogisticRegression(random_state=0).fit(train_count_vectorizer, newsgroups_train.target)\n",
    "predicted = clf.predict(test_count_vectorizer)\n",
    "\n",
    "print(classification_report(newsgroups_test.target, predicted))"
   ]
  },
  {
   "cell_type": "code",
   "execution_count": 9,
   "metadata": {},
   "outputs": [
    {
     "name": "stdout",
     "output_type": "stream",
     "text": [
      "              precision    recall  f1-score   support\n",
      "\n",
      "           0       0.79      0.92      0.85       396\n",
      "           1       0.88      0.87      0.87       397\n",
      "           2       0.92      0.77      0.84       394\n",
      "\n",
      "    accuracy                           0.85      1187\n",
      "   macro avg       0.86      0.85      0.85      1187\n",
      "weighted avg       0.86      0.85      0.85      1187\n",
      "\n"
     ]
    }
   ],
   "source": [
    "# example 2\n",
    "\n",
    "count_vectorizer = CountVectorizer(stop_words='english', ngram_range=(1, 2))\n",
    "\n",
    "train_count_vectorizer = count_vectorizer.fit_transform(newsgroups_train.data)\n",
    "test_count_vectorizer = count_vectorizer.transform(newsgroups_test.data)\n",
    "\n",
    "clf = LogisticRegression(random_state=0).fit(train_count_vectorizer, newsgroups_train.target)\n",
    "predicted = clf.predict(test_count_vectorizer)\n",
    "\n",
    "print(classification_report(newsgroups_test.target, predicted))"
   ]
  },
  {
   "cell_type": "markdown",
   "metadata": {},
   "source": [
    "## Vectorization with TFIDF"
   ]
  },
  {
   "cell_type": "code",
   "execution_count": 10,
   "metadata": {},
   "outputs": [
    {
     "name": "stdout",
     "output_type": "stream",
     "text": [
      "              precision    recall  f1-score   support\n",
      "\n",
      "           0       0.87      0.84      0.85       396\n",
      "           1       0.84      0.90      0.87       397\n",
      "           2       0.88      0.85      0.86       394\n",
      "\n",
      "    accuracy                           0.86      1187\n",
      "   macro avg       0.86      0.86      0.86      1187\n",
      "weighted avg       0.86      0.86      0.86      1187\n",
      "\n"
     ]
    }
   ],
   "source": [
    "tfidf_vectorizer = TfidfVectorizer(max_df=500, min_df=10)\n",
    "\n",
    "tfidf_train = tfidf_vectorizer.fit_transform(newsgroups_train.data)\n",
    "tfidf_test =  tfidf_vectorizer.transform(newsgroups_test.data)\n",
    "\n",
    "clf = LogisticRegression().fit(tfidf_train, newsgroups_train.target)\n",
    "\n",
    "predicted = clf.predict(tfidf_test)\n",
    "print(classification_report(newsgroups_test.target, predicted))"
   ]
  },
  {
   "cell_type": "code",
   "execution_count": null,
   "metadata": {},
   "outputs": [],
   "source": []
  }
 ],
 "metadata": {
  "kernelspec": {
   "display_name": "Python 3",
   "language": "python",
   "name": "python3"
  },
  "language_info": {
   "codemirror_mode": {
    "name": "ipython",
    "version": 3
   },
   "file_extension": ".py",
   "mimetype": "text/x-python",
   "name": "python",
   "nbconvert_exporter": "python",
   "pygments_lexer": "ipython3",
   "version": "3.8.8"
  }
 },
 "nbformat": 4,
 "nbformat_minor": 1
}
